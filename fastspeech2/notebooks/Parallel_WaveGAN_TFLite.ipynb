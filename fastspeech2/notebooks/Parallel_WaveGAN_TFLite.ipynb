{
 "cells": [
  {
   "cell_type": "markdown",
   "metadata": {},
   "source": [
    "[![Open In Colab](https://colab.research.google.com/assets/colab-badge.svg)](https://colab.research.google.com/github/tulasiram58827/TTS_TFLite/blob/main/Parallel_WaveGAN_TFLite.ipynb)"
   ]
  },
  {
   "cell_type": "markdown",
   "metadata": {
    "id": "qu_1y5_ZDxpU"
   },
   "source": [
    "This notebook contains code to convert TensorFlow ParallelWaveGAN to TFLite"
   ]
  },
  {
   "cell_type": "markdown",
   "metadata": {
    "id": "1KQie-EQDzEL"
   },
   "source": [
    "## Acknowledgments"
   ]
  },
  {
   "cell_type": "markdown",
   "metadata": {
    "id": "h-qWgadcDzCW"
   },
   "source": [
    "- Pretrained model(in PyTorch) downloaded from [Parallel WaveGAN Repository](https://github.com/kan-bayashi/ParallelWaveGAN#results)\n",
    "\n",
    "- Converted PyTorch weights to Tensorflow Compatible using [Tensorflow TTS Repository](https://github.com/TensorSpeech/TensorFlowTTS) with this [Notebook](https://github.com/TensorSpeech/TensorFlowTTS/blob/master/examples/parallel_wavegan/convert_pwgan_from_pytorch_to_tensorflow.ipynb)"
   ]
  },
  {
   "cell_type": "markdown",
   "metadata": {
    "id": "pBE0GfYwEwoT"
   },
   "source": [
    "## Imports"
   ]
  },
  {
   "cell_type": "code",
   "execution_count": null,
   "metadata": {
    "id": "PpGT8_mm8vs-"
   },
   "outputs": [],
   "source": [
    "!git clone https://github.com/TensorSpeech/TensorFlowTTS.git\n",
    "!cd TensorFlowTTS\n",
    "!pip install /content/TensorFlowTTS/"
   ]
  },
  {
   "cell_type": "code",
   "execution_count": null,
   "metadata": {
    "id": "2tI8NSz_886Z"
   },
   "outputs": [],
   "source": [
    "!pip install parallel_wavegan"
   ]
  },
  {
   "cell_type": "code",
   "execution_count": null,
   "metadata": {
    "id": "6iQq9Gkn9MYT"
   },
   "outputs": [],
   "source": [
    "import tensorflow as tf\n",
    "import torch\n",
    "import sys\n",
    "sys.path.append('/content/TensorFlowTTS')\n",
    "from tensorflow_tts.models import TFParallelWaveGANGenerator\n",
    "from tensorflow_tts.configs import ParallelWaveGANGeneratorConfig\n",
    "\n",
    "from parallel_wavegan.models import ParallelWaveGANGenerator\n",
    "import numpy as np\n",
    "\n",
    "from IPython.display import Audio"
   ]
  },
  {
   "cell_type": "markdown",
   "metadata": {
    "id": "BIr9zN74E3PU"
   },
   "source": [
    "## Intialize Model"
   ]
  },
  {
   "cell_type": "code",
   "execution_count": 4,
   "metadata": {
    "id": "UoFriagU9NBx"
   },
   "outputs": [],
   "source": [
    "tf_model = TFParallelWaveGANGenerator(config=ParallelWaveGANGeneratorConfig(), name=\"parallel_wavegan_generator\")"
   ]
  },
  {
   "cell_type": "code",
   "execution_count": 5,
   "metadata": {
    "id": "mayxwoLp9fiR"
   },
   "outputs": [],
   "source": [
    "tf_model._build()"
   ]
  },
  {
   "cell_type": "markdown",
   "metadata": {
    "id": "P__OyD23E8jN"
   },
   "source": [
    "## Load PyTorch Checkpoints"
   ]
  },
  {
   "cell_type": "code",
   "execution_count": 7,
   "metadata": {
    "colab": {
     "base_uri": "https://localhost:8080/"
    },
    "id": "gZq9ibuzHbI9",
    "outputId": "660ebfd7-6ed9-49e2-b3b1-9c26894694f4"
   },
   "outputs": [
    {
     "name": "stdout",
     "output_type": "stream",
     "text": [
      "Downloading...\n",
      "From: https://drive.google.com/uc?id=1wPwO9K-0Yq-GYcXbHseaqt8kUpa_ojJf\n",
      "To: /content/checkpoint-400000steps.pkl\n",
      "\r",
      "0.00B [00:00, ?B/s]\r",
      "17.5MB [00:00, 154MB/s]\n"
     ]
    }
   ],
   "source": [
    "!gdown --id 1wPwO9K-0Yq-GYcXbHseaqt8kUpa_ojJf -O checkpoint-400000steps.pkl"
   ]
  },
  {
   "cell_type": "code",
   "execution_count": 8,
   "metadata": {
    "id": "GoeX-YLQ9kaf"
   },
   "outputs": [],
   "source": [
    "torch_checkpoints = torch.load(\"checkpoint-400000steps.pkl\", map_location=torch.device('cpu'))\n",
    "torch_generator_weights = torch_checkpoints[\"model\"][\"generator\"]\n",
    "torch_model = ParallelWaveGANGenerator()\n",
    "torch_model.load_state_dict(torch_checkpoints[\"model\"][\"generator\"])\n",
    "torch_model.remove_weight_norm()"
   ]
  },
  {
   "cell_type": "code",
   "execution_count": 9,
   "metadata": {
    "colab": {
     "base_uri": "https://localhost:8080/"
    },
    "id": "3NSfX33w99WW",
    "outputId": "436460ea-2969-4f89-ba4a-801f0b60abff"
   },
   "outputs": [
    {
     "data": {
      "text/plain": [
       "1334309"
      ]
     },
     "execution_count": 9,
     "metadata": {
      "tags": []
     },
     "output_type": "execute_result"
    }
   ],
   "source": [
    "model_parameters = filter(lambda p: p.requires_grad, torch_model.parameters())\n",
    "params = sum([np.prod(p.size()) for p in model_parameters])\n",
    "params"
   ]
  },
  {
   "cell_type": "markdown",
   "metadata": {
    "id": "x7t7hPgiE_pR"
   },
   "source": [
    "## Convert PyTorch weights to TensorFlow"
   ]
  },
  {
   "cell_type": "code",
   "execution_count": 10,
   "metadata": {
    "id": "Y4vOfByl-ASZ"
   },
   "outputs": [],
   "source": [
    "# in pytorch, in convolution layer, the order is bias -> weight, in tf it is weight -> bias. We need re-order.\n",
    "\n",
    "def convert_weights_pytorch_to_tensorflow(weights_pytorch):\n",
    "    \"\"\"\n",
    "    Convert pytorch Conv1d weight variable to tensorflow Conv2D weights.\n",
    "    1D: Pytorch (f_output, f_input, kernel_size) -> TF (kernel_size, f_input, 1, f_output)\n",
    "    2D: Pytorch (f_output, f_input, kernel_size_h, kernel_size_w) -> TF (kernel_size_w, kernel_size_h, f_input, 1, f_output)\n",
    "    \"\"\"\n",
    "    if len(weights_pytorch.shape) == 3: # conv1d-kernel\n",
    "        weights_tensorflow = np.transpose(weights_pytorch, (0,2,1))  # [f_output, kernel_size, f_input]\n",
    "        weights_tensorflow = np.transpose(weights_tensorflow, (1,0,2))  # [kernel-size, f_output, f_input]\n",
    "        weights_tensorflow = np.transpose(weights_tensorflow, (0,2,1))  # [kernel-size, f_input, f_output]\n",
    "        return weights_tensorflow\n",
    "    elif len(weights_pytorch.shape) == 1: # conv1d-bias\n",
    "        return weights_pytorch\n",
    "    elif len(weights_pytorch.shape) == 4: # conv2d-kernel\n",
    "        weights_tensorflow = np.transpose(weights_pytorch, (0,2,1,3))  # [f_output, kernel_size_h, f_input, kernel_size_w]\n",
    "        weights_tensorflow = np.transpose(weights_tensorflow, (1,0,2,3))  # [kernel-size_h, f_output, f_input, kernel-size-w]\n",
    "        weights_tensorflow = np.transpose(weights_tensorflow, (0,2,1,3))  # [kernel_size_h, f_input, f_output, kernel-size-w]\n",
    "        weights_tensorflow = np.transpose(weights_tensorflow, (0,1,3,2))  # [kernel_size_h, f_input, kernel-size-w, f_output]\n",
    "        weights_tensorflow = np.transpose(weights_tensorflow, (0,2,1,3))  # [kernel_size_h, kernel-size-w, f_input, f_output]\n",
    "        weights_tensorflow = np.transpose(weights_tensorflow, (1,0,2,3))  # [kernel-size_w, kernel_size_h, f_input, f_output]\n",
    "        return weights_tensorflow\n",
    "\n",
    "torch_weights = []\n",
    "all_keys = list(torch_model.state_dict().keys())\n",
    "all_values = list(torch_model.state_dict().values())\n",
    "\n",
    "idx_already_append = []\n",
    "\n",
    "for i in range(len(all_keys) -1):\n",
    "    if i not in idx_already_append:\n",
    "        if all_keys[i].split(\".\")[0:-1] == all_keys[i + 1].split(\".\")[0:-1]:\n",
    "            if all_keys[i].split(\".\")[-1] == \"bias\" and all_keys[i + 1].split(\".\")[-1] == \"weight\":\n",
    "                torch_weights.append(convert_weights_pytorch_to_tensorflow(all_values[i + 1].cpu().detach().numpy()))\n",
    "                torch_weights.append(convert_weights_pytorch_to_tensorflow(all_values[i].cpu().detach().numpy()))\n",
    "                idx_already_append.append(i)\n",
    "                idx_already_append.append(i + 1)\n",
    "        else:\n",
    "            if i not in idx_already_append:\n",
    "                torch_weights.append(convert_weights_pytorch_to_tensorflow(all_values[i].cpu().detach().numpy()))\n",
    "                idx_already_append.append(i)"
   ]
  },
  {
   "cell_type": "code",
   "execution_count": 11,
   "metadata": {
    "id": "168kydzc-SxJ"
   },
   "outputs": [],
   "source": [
    "tf_var = tf_model.trainable_variables\n",
    "for i, var in enumerate(tf_var):\n",
    "    tf.keras.backend.set_value(var, torch_weights[i])"
   ]
  },
  {
   "cell_type": "markdown",
   "metadata": {
    "id": "p8D70bCeFOAA"
   },
   "source": [
    "## Convert to TFLite"
   ]
  },
  {
   "cell_type": "code",
   "execution_count": 22,
   "metadata": {
    "id": "mTnGufeuH3io"
   },
   "outputs": [],
   "source": [
    "def convert_to_tflite(quantization):\n",
    "    pwg_concrete_function = tf_model.inference.get_concrete_function()\n",
    "    converter = tf.lite.TFLiteConverter.from_concrete_functions([pwg_concrete_function])\n",
    "    converter.optimizations = [tf.lite.Optimize.DEFAULT]\n",
    "    converter.target_spec.supported_ops = [tf.lite.OpsSet.SELECT_TF_OPS]\n",
    "    if quantization == 'float16':\n",
    "        converter.target_spec.supported_types = [tf.float16]\n",
    "    tf_lite_model = converter.convert()\n",
    "    model_name = f'parallel_wavegan_{quantization}.tflite'\n",
    "    with open(model_name, 'wb') as f:\n",
    "      f.write(tf_lite_model)"
   ]
  },
  {
   "cell_type": "markdown",
   "metadata": {
    "id": "zSaic3flIJX7"
   },
   "source": [
    "#### Dynamic Range Quantization"
   ]
  },
  {
   "cell_type": "code",
   "execution_count": 23,
   "metadata": {
    "id": "6STZKNqg-vxS"
   },
   "outputs": [],
   "source": [
    "quantization = 'dr' #@param [\"dr\", \"float16\"]\n",
    "convert_to_tflite(quantization)"
   ]
  },
  {
   "cell_type": "code",
   "execution_count": 25,
   "metadata": {
    "colab": {
     "base_uri": "https://localhost:8080/"
    },
    "id": "VB5H4bUmIUFR",
    "outputId": "e53b77e9-d680-424a-a1e7-5a6abb723866"
   },
   "outputs": [
    {
     "name": "stdout",
     "output_type": "stream",
     "text": [
      "5.7M\tparallel_wavegan_dr.tflite\n"
     ]
    }
   ],
   "source": [
    "!du -sh parallel_wavegan_dr.tflite"
   ]
  },
  {
   "cell_type": "markdown",
   "metadata": {
    "id": "tb_FF8fNINWr"
   },
   "source": [
    "#### Float16 Quantization"
   ]
  },
  {
   "cell_type": "code",
   "execution_count": 24,
   "metadata": {
    "colab": {
     "base_uri": "https://localhost:8080/"
    },
    "id": "19kqBUnQ_KG3",
    "outputId": "4ab46a0f-98cb-44ea-8b8c-a337b5fc8d35"
   },
   "outputs": [
    {
     "name": "stdout",
     "output_type": "stream",
     "text": [
      "3.2M\tparallel_wavegan_float16.tflite\n"
     ]
    }
   ],
   "source": [
    "quantization = 'float16'\n",
    "convert_to_tflite(quantization)\n",
    "!du -sh parallel_wavegan_float16.tflite"
   ]
  },
  {
   "cell_type": "markdown",
   "metadata": {
    "id": "7Kab76pmFifJ"
   },
   "source": [
    "## Download Sample Output of Tacotron2"
   ]
  },
  {
   "cell_type": "code",
   "execution_count": 14,
   "metadata": {
    "colab": {
     "base_uri": "https://localhost:8080/"
    },
    "id": "IwuNQ_Z1Fm0d",
    "outputId": "a5e18dc0-573d-468e-f215-87d5bc86e67e"
   },
   "outputs": [
    {
     "name": "stdout",
     "output_type": "stream",
     "text": [
      "Downloading...\n",
      "From: https://drive.google.com/uc?id=1LmU3j8yedwBzXKVDo9tCvozLM4iwkRnP\n",
      "To: /content/tac_output.npy\n",
      "\r",
      "  0% 0.00/36.0k [00:00<?, ?B/s]\r",
      "100% 36.0k/36.0k [00:00<00:00, 59.6MB/s]\n"
     ]
    }
   ],
   "source": [
    "!gdown --id 1LmU3j8yedwBzXKVDo9tCvozLM4iwkRnP -O tac_output.npy"
   ]
  },
  {
   "cell_type": "markdown",
   "metadata": {
    "id": "ZyoeWq2mFRCb"
   },
   "source": [
    "## TFLite Inference"
   ]
  },
  {
   "cell_type": "code",
   "execution_count": 30,
   "metadata": {
    "id": "jXu30-8g_q88"
   },
   "outputs": [],
   "source": [
    "data = np.load('tac_output.npy')\n",
    "feats = np.expand_dims(data, 0)\n",
    "\n",
    "interpreter = tf.lite.Interpreter(model_path='parallel_wavegan_dr.tflite')\n",
    "\n",
    "input_details = interpreter.get_input_details()\n",
    "\n",
    "output_details = interpreter.get_output_details()\n",
    "\n",
    "interpreter.resize_tensor_input(input_details[0]['index'],  [1, feats.shape[1], feats.shape[2]], strict=True)\n",
    "interpreter.allocate_tensors()\n",
    "\n",
    "interpreter.set_tensor(input_details[0]['index'], feats)\n",
    "\n",
    "interpreter.invoke()\n",
    "\n",
    "output = interpreter.get_tensor(output_details[0]['index'])"
   ]
  },
  {
   "cell_type": "markdown",
   "metadata": {
    "id": "lilT7qceIaKZ"
   },
   "source": [
    "## Play Audio"
   ]
  },
  {
   "cell_type": "code",
   "execution_count": 31,
   "metadata": {
    "colab": {
     "base_uri": "https://localhost:8080/",
     "height": 75
    },
    "id": "kAo5yluw_6Xw",
    "outputId": "d6a20ef6-176d-4c23-f407-a3d0b1275bba"
   },
   "outputs": [
    {
     "data": {
      "text/html": [
       "\n",
       "                <audio controls=\"controls\" >\n",
       "                    <source src=\"data:audio/wav;base64,UklGRiTgAABXQVZFZm10IBAAAAABAAEAIlYAAESsAAACABAAZGF0YQDgAAB+AJYAawB9AHQAhQB9AHMAYABqAI0AjgCGAHoAZgBSAB0ADgD3/wAA6v/m/+f/5f/W/7//s/+m/6n/lP+U/4P/p/+l/6z/p/+x/7f/u//K/+n/AAAYACsANAA7AEgAZgB4AJcAmwB8AJEAiQByAIUAWABZAHQAWQBOAG4AUgBbAGYAZQB5AH0AbQCMAK0AsgCtAJwAjQB9AIEAkwCMAJcAnACyALsAuQCrAKMAjwB6AH0AbABaAEUAQAAXAAoA8//m/7r/nf+r/5n/j/+R/4L/Wv9k/0z/U/9M/0X/SP9O/0b/T/9T/13/cf93/4r/mf+V/5f/pv+q/6T/tP+o/67/HwAoADAAHAAnACEAHAAlAB8AKQAbAAoAJwAGAAcABwAZABkAEAAUAAwABgD6//b/7P/q/9j/1v+//8H/uP+3/73/uP+z/6r/sP+6/7n/t/+7/6z/tP+9/73/vP+6/7z/1v/V/9D/3f/b/+T/8v/0/wsAJgBNAHAAkgC+ANwABAE9AXUBmgGvAcIByQHzAQsCKgJOAm4CmwLLAvgCGQM3Az8DTQNgA1kDUQNFAzUDEwPzAtUCwAKkAogCXgI6AhoC/gHnAcoBowFZAQ4BxACCADMA2P9+/xL/yv51/iP+4P1v/R/91/yp/HH8Nfz9+9P7qvt/+0T7EPvQ+pb6bPpG+g76Ffon+hn6Vvpd+nX6qPrS+vb6MPte+4b7rfvJ++r7K/xj/Jr89vxP/cb9TP7I/kH/sf8fAIYA9wB8AQACRQKUAtwCOwOWA/MDMASKBNoELAVyBbkF4wUfBlEGXQZ3Bn0GdQZzBmEGRwYrBvUF3gXDBZIFdgVgBTUF9QSwBGkECwTYA5MDQAPrAoQCGgKvAUoB8wCGABwApv8v/7z+aP4H/sL9h/1F/ff8sfxd/A38uftf+wz7xfp3+jT68fnT+b35vfm7+cX5y/nB+c751vnO+dr56Pnv+QL6GPpI+nb6yvoi+2z7yfs//Mj8VP3Q/Uj+v/42/6j/FgCLAPIAVQG2AQYCWwKZAuECDQNCA3gDsQPiAwQEFAQrBDMESQRbBEsEJQTjA68DZwMVA8oCVgICArgBfgFsAWYBWQFQAVgBhwGzAeQBGAI3AloCdgKaAsUCvALIAt8C+QIhAyEDKgNFA0sDbAOMA5IDqQOqA6oDrQOlA5oDdwM5A/YCggIcAp8BHgGMAPT/a//h/nT+Ff6v/UP92vxg/PX7jfsU+2/6vvkQ+WP48PeI9yP3mPZE9h/2IPY/9kb2U/ZQ9jn2QPaC9sj22PbK9sr2CPeM9xb4lvjK+Ar5dfkV+sf6X/vj+z/81vxq/Tb+7v5v/+3/VQDmAGUB4QFAArgCDgOIA1EE1ARaBasF9wUkBnwG2gYmB80HFAhQCGgIFAi5BzMHtwZCBpEFqQQDBJkDuwOcBGAGaAg5Cu8LNg35DrEQ2xHCEV4Q9Q7UDWYNpgw6C8QJawjLBxYIpQjpCJoIDAgLCLcIUAmJCB4G2gKj//f8x/rO+Ib2CfSg8W3wjvBW8RbycvHy72fubO1s7bjtku207FnrdOr66mLs/+0I7wzv3u7S7l3v0fAw8rbyZfLj8fPx7fJF9F71ivUv9Xz1FfcA+vX8yf6+/5AAQQKyBJQGLQc8BswEIwTRBCQG1gYvBuEEIgTzBPAG0QilCTcJQQgoCC4JgwoVC98JrwedBcME3ASlBHADaQHn/xkAIwLmBFUHzAgNCiAMgQ+AE+wVdBWzEqsPGw52DUsM1wlNBjADaAHzAG0BBgI+AgICogGAAbEB/AHGAdcAtf6q+5H4b/Z69f/0ZPT78rPxffGA8oT0WfYY9xH3H/fU9yX5+/n7+Vb5w/j++Lv5N/o/+r35a/kB+sf6ifvS+7H77PuM/NX9lv8NAQ8CeQIRA3YELgbVB80I3ggnCAEHrgWOBNMD/QLhATwAn/7l/SL+EP8GADsApf+6/uj9sv3s/a79u/z6+iL5DvjA9/r3JPib97H29/XJ9SP2uvZb9+j3q/gj+X35vvnQ+YP6zfsd/e79u/1b/RL+FAAaA64F8wbNBgcG2AWiBrQHlgf6Bd4DxgINA9kDYwRbBAQEcAQGBlEI/AkeCmoJPwkuCnwLCAwsC1sJMgewBdgFIQcLCHcHjAUfBFIE5gUWCM8IhgcKBQ4DUQPlBO0FTQWyAvf/nv7v/oMAIQETALn9xfu4+zn9rv7j/o39tfsW+xP8K/5x/8v++vzc+wP82vxS/U38bPrX+Cz4rPh2+Sz5w/fr9d30uvSA9I3zvfES8NzvfvEf9Cr2HffM9zL5evud/UP+OP2k+3L6Dfpj+qr6avoi+oz6QPzf/iYBEQK9AV8BqQHdAikEeQR1A28B9//D/8gA4AHAAbMAXv/C/tv+Gv+M/9r/QQBPAWQCiAMqBXEHJQo9DIsNVg77DqwPyw9WD9QOOw7ADaoNCQ7yDt4PPBHtE+gWcRjXFz0W2xQmFIATVBGwDSYJjwR+Ar4CIAOGAvP/ZP3G/A39zf2o/cP7XPnG9r31X/Zm9n31APT58pbzsfNJ8lPwWe5J7ofvr/AZ8Rrw1++r8Qb1nfgG+uv4b/ec9sv3tPmg+af3XvRe8uvyBfSQ9I3zjfG88B7xJPNn9RP1svJU8I7wa/OD9Y310/Nj8jbzRvXJ92f56fk++kH7O/5IAuEEAwZOBwMK8QxQDQ4LJQiOBt8EGwK2/zP9mvuG+ib7nQDEBtILTBAAFXodJiXlKbYsJS3RLLUq5ygXKRsnkCJdHWcZ0hhTFk8RRg4GDfUMYQzLCaMHiAVoArL/1Pym+bz1MPH57sDuhu6C7Tvrt+nj6B/opugm6dnoJuhy5xzpr+xa8KjynPOe87Dzw/Qv9SP2PPf99uj2zfU29VD2C/ap9aj0WfJu8IbtxusH7Afsjesz6ovpKOr968PuifCw8SHyQfF88ub0hve5+vT6yfkM+tT6vfs//EH6Vfg4+Jb2l/eO+3v9gAGkAskDKxLtI3U8pFUuYbZqHm1wbXx3gXjmbTpYGTNCGToIGPXp6k7ZGccDwGi6lcTd0svUtNcx2Hve+uzy8br2WPoE+Eb6LfzZ/ykEaP8N+yX9JgINCcsJGAagBukHNws4EFYPJgtiBL/9bP5IAHD/jfsx9GrvKO4571zxQfDr7O7r4u2n8Qf1VfSk8uvyVPRD+K/6QvmH+Lj41fqc/Tv9avuZ+Ev1MvMW8R3utOkp5VPiLuIP5Qbowuv37hTxa/VN+ZP7Cv2d/Nj88fvk+Gb3dPbH+MP8UP1v/gL97wGhGeo2u1G5Xyxe4GFla71wQ3GDYs9CCh+c/mrqH+fo3VzKir3ptda+QtJV3T3rcfMi9I/7HgH+CPoPgAsCBuICNQD3/jL7ZvY698j6ZPzd/Jr61vlX//8EsgkTCm0BrPme9UX3Qf/1/y37zfRC7g/ylfm//+gCdPpC8SHvb/Pj/KX+s/iq8gHvifLL+Y0AsgMF/6X3pPMK9LP1tfMq7b3lO+AC3kTgdeQL5i3mYed76u/wxvUX+Tz9s/6o/pH9MftE+DH3S/jv9/D2VvLJ9CINvSv2SGpcml7+YQlqvW8qdExlRj1KFcb0XOS94OHSX8UEvEa228KZ1X/qZfqX+98BnQkQEIMXMRXqE0URBQikBTwEL/8j+zT3s/iR/dP4vPO99qz7zwIcA0r/7/99+2r60f5JAQkE6/249yb6KfuI/iYAtfw0+3n23fSV+aH5u/ZP85Pxy/Ux+Fn3uPlD/I3/8gIEAloA9Po/86jvuOuR5pvfydgX15zXCtoH3xLl++oe73H0eftoAd8CAgC9/cb6efcz9cLyT/BJ6VfmMe9+Ch4whUi5WkBgT2WCd0B7b3mSZVI2bBSC9EjhlOADzU6+fLeAslrKVOFr7vz+kv7AAxQSkxNwGa0XFQrbBy0DT/+hAtT69PQG9yr2xfylAPn6xftf/Jz/cwcOBPn+rPvV92n9HAJVArMDrv5j/A4ApwHcBF8BgPg09ezyFPTQ9pPzKfF57+juGvYR/TYAIgG5/q7/uAJ4AZ/8+/QW7PvkW9+d2yDaadjj1kHY/9x85OzqmO8G9k38VQL6BRQGkQTa/gb6XfZo8RnsquJT6zYI5CkgSsxT5FjWZZdu3XdUcmBY/TKgCMzs6uE23FvOqr1uuSnAb9Qo6jH3EAQiBz4HoxEdFjUXfRFyAFX9F/3K+Yv8mvVW8rz0FPRS/T4Djf8y/on8eP8lBvIDLAIcAnf9ef9iA3IHEg1zBhr/dv7r/LP/sf1n99n0Fu+C7F3vl/J49qH26PQn9r36hgDfBN0GAAR5/zz77Pak85TtDOVD3ePW4NJA0Y7T2tes3lTm1euL9On7PgLfCLYJ4Qi5Alz6QfTW6gHoauOS5gYE/CDrQ/5ZHldZZtVxXnWCdlpVQDEMEVXq9N3C1b3L+Md1vPTEKt1h7ab/LAYuCiEUVRA7DwAR4gUd/mz37PHM+Lz2kfCI9m35hf8LBr0DagevBy4EXgZxBG0C2f+0+jn8V/9IAjAH8AfuB5YJzgdEBs4B0vY88DnskujL6gzp6OcT7aDv4faA/5oCaQdICdcHowhFBgYBOPst8DrlJt7716rVuNMv0R7UENgK3qPmHO56+IQB8gUTCOUGnwPYAE7+0/Yo8HroDOE99Q8VmjtcW51XFVkKYUlpYHMNXvw8WRbu667Y+c9E1I3U68ZuymrbmfNJByEJUQ8lFmgQ+whrAtv/ovyY8OTqb/Ga9S70RPMG+pIHIQ0LCs4IOgbVA2kDRwJPBCX/H/bu+BMB3QpUEGUOwQ5PDNoFngH8+/3zoemm4O3eE+LR5W7oZ+0A9Br60gCnBLkG5wYWBiwHlAQx/Tvyg+eF4uvdENoy1RTPIs+20a3a1+TR6wz00PhS/3YCEgQhBff+F/0d9s/veuuF4y7zrxQsPuJaR17hWSdcpGu4blNigkL+DvPu2dXVzh3a1NMI1WPVxdvg+OsIyBNXFfELTw7DB7b8X/bD7crtsfCm7wnynPdZ+pMC7A6lEmATDwuB/70BEAPsA5gElvz8+Kj73AMGE60a2BaYD/sIsASh/yP14ujs39nY9tYr2vrflOhT8Hb4kQHYBzcKvQkJCeIJnwm3BPn6Su8d5U/fgNxb2a3Um8+tzZPSs9wO57jwQPX6+GD++QFzBaUAEPuc99bumOy24fHnBhBrMJhWfV2aTgBeBGDxZdVmgz7OHNb1DtMK2V7bqtmY3bPXTOem/3kE7w99En8MPgzb/Wr2AvX050rlpenK8yP/ePx7/fwFNw9qFkoTkwzMA+f5v/g2/wIFYwNy/6EBUgugFcMYoxeFEtEGvfrL8M3nUd6y1K/Q8tYk4RXo5O6e94oCxQo0DBEJIwS1AJ3+9/z5+rv09Ox85orjmuOe4FTbRtTP0n/X8N7v6lHxw/UN+pD7tP+a/Xr6BvS76sXp9OKM++4mnEdEa89hCloVa9hmwW3YWGYmswnH4GXMPNiB2RThtOKM3eH08wm0DVcTzwvvBXcFefMN6Wzoc+M16XTyKfk5A1YGOQanD94VYRRxEIYDDfsF+fz36AJbCA8HMQhuCGIUKCANHyIYxgfl9lrsTeNC3QLXyc5RzIvU8+LD88r+cAPtCZoMGBBTEQwJgQSL/V/2LfQ66f/h495Q2mzbBtkc1q/X9Nlk30TpB+/S70fzuPM69nr5yvM/8cfoHt4a6dEKXjzbXFNiXVyCW8xsfHD6ZUBNLxhm9azd59Oh5nbgddx55QHq6QKMDGAIEQw8BR0BfPvs7Abku+H/5ZXwpfsD/6sA+AQMCdMS4RYLD3EFaPgc9Rz+dQINBvkHYQh9EdMZZhu4GkASBAZz/BXwIuPS19/Nics90oXbYOXa75P4XwMHDigSGhE+CZf+lfcx8Z7tK+tk5w/k7N8c3vffiOLE4Yje8dtT2//fIuRG6aHv7u2k7EHv6u7z75PpfOOv/34u/VZDbdhlYF7daRB01XHwW7ctLvs/4CnXgtwB6aThQeBZ8BL8RQysEC4HVwi6AAf0p+6R5EPh2+QG6/b6TAVUBeAGNQxJFUgXDwwo//j3xPUY+V//3QU9DFMRwhVXHnIimR2wFT0HD/gX56TVo86rygzL9sw50rTiW/KF//oFkAfbCsoJXwcLAJP2lPER7ITutPBB7Rvp7t5v3ZLfBd3D2QvQRc891WXceek+7LnrXerO6QLuvu0E6DnpLhbMRIthoG82WBhlSniDb4BySUjQFa32odAx3p3sr+bW6V7lPfqDDOMHLQsWAw7/JfkK59XlyeGi4OPtTvr4CHAOZgsDD6sTjRNrDjAFtPrL8dzvk/cOB/gR3hagGhYcWR9KHSEWmQug9dDeus6yxuLHcsjIyqzUNuJH8kX9HQI+A4cBFQGy/3r84Pbr8AzvwPHA9jr2Zu1T4lPZXdk52jDXrNMEz0HRtNjK5DvtyurU6MLnF+ng6mfirvJmIjVPXW6bbc9himvFd3F83XCkRDcOjOXG16XjVe3e7fXsNfAQ/AMB3QLIBHL3G/DO6Yzh4+MW38jkevzGCrMRVBFIDeoSFRaKEA0JzPx+8nPyYfp3CYoVgBZiGZwbghtEG1INwADa9EnjE9hSy27EUshyy2fUjN4K5U/sWvC49UL9XAM7AR38Jvlc9T74Lfm99vT3R+/J6CnmSuP34yHbLNTV0szRP9eO213ex+CP4lDl4+Sv5Mfbd/JFLbRZXHdTcDhckWxRe+V6mXC2PlMCcOXZ2TbrhwNr9b/wkfsg/uALjQLU7+buaeTw4RvjCdmU3C/r6QBZGuMdzhT5DkgLfg3XDUQElvW/6DvnZ/sAFpoiwiFyHTMfGSLAGjMKA/VR4tfVc8xYx67B9byqxgHcE/Az92DwEuuB8VH9sgIr/lHycerd7lD81AewBsb5yu+V7HXs6uiq2hzQ8s2r0UHYhdr+2Qfa9N255lrnC+Zy3ajZXgx+Rz1v/3/FXt1ZtXxif416flQZEuL3R+aZ5TYEtgim+/n5Vf6MC0gIAu372yzi/OEh1vrO8dR/7ZwGrhLeHsIfjxEZB+gG7A1xCCPx3uVS8IgFOBiaH1skGSdOIC4VYQye/jfud9/h1FjQ18kbwtHIqNjr5FPnn+IP4ZvkMOnR7Q/0D/gO+eL4lPsdBBkIAgagADD2++235Bfd6N+x3/Dekdly0o/WpNnt2g7fst5J3LXbWtgR8cAsOV9oeGt2o1xPZKR+dHiAZ+g5UQPy+eD1mvlPE90RcAlAC3EDMwFP96HYA89w1+vVQ9U20yfeWAB/FaActR++FpUMrwGM+y7+Pvta9E337wVSGZgljyfkJ3gm2RtDCrf3GulD4S3baNgj1XLP6MqtzE7Y3uPV5QHg6tsP33voZPFR9rL5Tftr+4YA0QXHA0D95fXM85L08Owe4vLbFNt23cfaKtiL1m3UN9aS28nak9mQ0QDZbw8iR/lsI3R+XitaAmyBenBzR1K+Gqr0CP5yDgEhCSWLD0YOVw/DAoj18N0zypvJrsvW0R7a9N0A7oQJXx5bJBQT1gAR/IT8WQGA/4b50f31CJYa5C35Lx8mvxrEEakMp/6C6hbcctdr20LbTtem0pfP/9GT2NbeOeCi2QXRntTg4Cvu/Pip+kv7e/6fANkCxAEQ+lHwzOp66cbtGe0m5kTfnNoA3vbcBNcG1XfVQdb31wXT8+74KMxaFnkcbnFa913OaJZ0aGQuM/0Psf0CDrsnDSlJK3kiHQ8QB2vxe9w30Ty+6cIF1lPaQeEg7V8BmR+BISMOEQE093v0ePck+1IGlAvwDUoZYirYMwEsqBikCxoCPfW26k/ixuHp5BThmd+53/rXttLtz3fU2tpf10zQrtFn2vfoC/Ou9mn65Pk2+U788vzr/f/6qvGm7bfrzexT6+jnNOSl5unkB95Z2CDXgtTW1x7SK+orILlLY2/ZYzlVSVSJWmdqk1yyNMcYcgbZHIEyczKJN88qLhraCIPsNdtP0zHFSsvW2BPiOeqC7zL/GhaKEycBg/GT6yXxgfSq+G4HSxImGEcebyL3KMwjlBTwCa0BePfi88vyUfYW+ADsaeBW3I7WHtCPyuDI2dD31RrVbdbp3FXkD+tw7QPuQu497i/zJ/xtAbD/n/gN8qbwGe4Y6dvlV+Ba373hKt/B373ec9d/2rHUpN8IGOtIwGjVYgxCMEbRXQxgIFlLQWwjOiGaJk4zzk6+RdkoDB0gCKD3MuOjxxjMLOGZ4oTlGOrP69T7ZwM0/S754uad2WfmPvZ8CKcRJA/NF78iFiVHJZgY5go7CU4GugWBA8747vYy+vb0Suws2enIbcY2y43S0dcI1mjUT9bm3AblAemR5kflkOfp7Rf2Mve5+bj6efr5917zze9S7VTq8usv6jvoqd9u3GLaVtxy2+PXdP80L1lTgWLCQnc/JE88T0tYRjzQLLcx9SurQiNMvkRAQWQfWRCEA17i3NYR1NfcmvLP6qvknuzs8Fv6ovQq55HiAN5h4Rbx3/0mDLIRxhbPH+wgzxdWFNUQwxQGEQwAofhW+zsAqARF/FHsd99W0zLPr9B5z3jL4M+/00zb/9uh2hrfk+Q75RfgFNsP4tDuDfth/2n8rPgP+SH3rvb18bnrpOYs3w7e9uJZ4kLh4t6d27kPUi8hTldb9zbVNy9FZ0UWXINDLSYzOLs8+0/xV689KzShLAQLmgIO7/TeLecx5DHtSvsy6e7ki+tV67jtV92Mz2XhWupw8Q7/iAPxELMSmgxHFVQX6RAzEEcPlBe8Fz4LdAa0Amf2Se9+5Yfk6uLh1VDSq9gN2QnXBNC/zNbSbdag2ZXgi+Zt5qPp6Ou88FDywO5s7qLy0fL99WL0WPXS8jPtheiZ5gjjdeNx3jfiZf5nIMFKT09oPUosujKkRhJMej94NHE2x0NCTANOY04gP+MpgxJyB5r+i/I25zTvIfli+GnsDt/54TLp8eNb3X3aZtkV5fTtJPqDAgcAPwBOCjoPShKcDCILVBQhFWsSIAzrBiMFNf4N9nLxXui+4z7gU93b2nbWus8u0h3SedBg1CfUkNj+3FLcjuTy6V7oOO0R7t/yqflW9Rr0JfIe7xHx5OzI6mbqLOyM6xTtXOOe/QknqkGXVPs2WSd7Ocs96k5kShU2kkE6QelLQlfASc454Ca4FroOTQCX8lbwFvlY/fD05ulA42/gqeLW4B3cLds/2e/dCvC1+Ar6Wfo5+RICuwjaCDYNTBM/FIMV2RGdEB8NZQNE+v70IPD87fnosePm4SzeQ9qt2RrTWM0ZzdLOXdhu3kPc9tzl31rko+re6i3pe+o17lPwkPW88kLwTO+p7Mrte/Fz7irvHen28MYTkDUBSkVBNilcJf83pUPKSmZBUDc0PNhCLExyT/FDPDKFH9cUqxBEBtYB4wAi/ur+Yvad55vkyOFd4EDnAuC12Ybc+t8x6xnzyu4r8a32Rv0ZCdILBgtrCL0FNApED0MKtAJx99X2v/rV9SPx/ebl39XhB+B/3SvcWdT+01XWade02VfYidYx3XziSObn61rslvD58LLtDO/P7jTuMe7P7JTuve5A7mzv+O6V+MMP5y8FRyA9bypZJ8c300nuRWE5bDvHQoJIkEvmR9pCTzbDIWIcEhvaEZMLvwKKBmUKZPok7MTkWN9A59vm6t+I4PDa8d7h6zHqT+bU5brm1PXY/z7/ZAWLCswNRREFCH7+KP1Q+Jf5B/qp9bL3SvRS8CjsPOZT4W/c6NgA2JLYbNuP4HzjCOKf31HdaOLu6Qrpv+so6wXsivCt8Yfu7fDp6hzol+wt717v2PZ97wD6gBmyK0tBqTNZHIcgajJEQOFExDeYNt0+30a+Q2pAqDf2LsUpUiM7HJIQaA8SEgwTFAkO9NjoA+/u7N3qm+aF5B3mVOXX3qfh2efe5cPmjehn6gf0W/4OAtEE1P2I9Sz5rf2F+4/6lPeQ93b6gPVN7kDs7uk46PPmAeM54pjizuLN407k6+NW4rziuufT66TtKOw36rbrOPDe8Frwq+696xXtiu8Z8inyou5v7Jz+mhLJJJIsgx8LIG4maSq7Nzo0CjD3NRE2+zohPSk4KzSXMSEpzyOLIr0eYBxvFwESYxEmCfD+KPaD8yD11PXJ7zboguLE3l7iCOhH6WLoO+ki7DnwjPCH8dr0Ivp/+OjzePJo9RL3VfhA9h71UfbD8/ny9vBb7Hjpv+mJ6xvs1emo6Czrd+166ovr8O4J8gTyu+z+7D/wSfIM8kDxY/HL7xDtx+1k7fHvYPFq9QYAeAZYCzER5xWXGNwbIh6HIpomCyNeI0ot3i6fMH0pyCKWKQEr+ClyJl0eyBtFG0gbzhlbEWAHPQOQBhcJeQjl/ev3uvV08anyQu3H6evtvu2z8XnyUO+v8anznvOj8Izub+4M8zX2pfMI8kTvqOys7EHs1u7k8Y/y1vDb7Wnr5OrI7L3tbuzr6fDoL+oe7djv1/IJ9Fr0VPRj9aP3pfgo9e/vT+p15Wnk0uUX6kjywPjn/OgA7P93BlkOSBLzFYgRthDAGUgebyD1H4YbvyA4KKIq/yzhK5cnVyfGI8ohJiZ3JvYlTh8sE1gPgAzSC4cLNQUqBCUEBwJ6AFL6hfUN9hP3RPfM9Q3xu+3K7k7vd+/z7mbtwu0f8jb0+/Oo8onuOexH6jnpqek46q3qg+q4663sv+uu7TPxHfbG9x70NfCS7B/rfepe7H3wrfFc8dDvO/Aw82v1xfZC9XTxWO1U7+z19P0vAjEC+gS3Bk0H0AchBy8MfBHCEwsVkRIqE+wXhh1TIx4lPSNAJM0kWCRNJP4hDSLWIqwg+R7eG/caNBqjF5MV+Q/ACgUGJAJ6BLcFrQQSAsr6dfcH9WzwSu4p6yXosOnt6vLr7O1N7Kbrqe7h7uHuyu5U7bXvCe8q6vXomOm/7a7yqvBc7CXoquVZ6RvvofFq8vTxr/OL9ur2d/VZ9G70CfOX72PrWutE8OL2Of2NACEC5QP3A7UDrgM+AoYAEgBk//IB6gXrBoMJZgobDAURuBPuF8kb8hyPHvkeXB4cIUwi/CJfJV4i/CD2Hrcb2x0DHW8Zahf9EaMQRxCOC2oIwQYHBbQFmwSxAH//P/1u+rz3pvI67D3nvONL5Abn2+hE6s7q1OoD6xDqd+oB7Bvr9+iu5sPmk+jb6SPoCOfq5m3mk+jf6Wbs7O8r8HrwZfEI8tT0Pfgn+e37Y/+qAYAHlQn0CK8IVARFAmECRwEfApEAC/4h/l3+Jf8J/9X9yv6RAXMGpQxCEBIT1RM6FI0X9hf0F3sY5Rf6GUsZLBiYGp4dpiCjIFkefR4KIFsgWCC+HhMbOhigE+IP2Q0hCN4DZAFI/sb8UPkr9V3zs+9L65Dqp+uJ7L/rL+jL5dXmY+dH5trlz+Sw5I7lUeVJ5Mbi7+GY48/m8+c2547mGucP6qvsAe9R8nX0D/hv+wD+cAEYAwgFyQaXBUADQwAH/rT98f3D/aP9Sf7N/Qz9JPyH+WX5yfkP+/8AYQWeCcYMFw3FEGYUPRasFzUY6xfvF1EZrRoJH1IhNSD1IZEi3yIfI/IgcyFLIlsgpxwCGD0S0wzOCa8H6wZeAw79Y/l/9zP3qfZD9KHy9/CC79buau6b7ffrzOmw5gbkzuGq4ePkWei/6uHqsOmL6dPqzetS7HXsyutK7DHtvu0T7+zvq/F89bn4n/ty/B37mvqM+b74N/mC+XP6I/tG+vn58vme+fX5SfkQ+A33J/YG+J78MgKEB+EKqwyYDkIRIRTnFr8YLRl3GZ8aXBzfHr8h3yLqIo8ioiH+IUQjYCM4IiYg5hvVF1MUIRCBDZwLeQk9B1MEfgAW/XL6yPgX+EL2HfO88ELx0PIu9AH0svKy8rDxXu+V7GPpc+fL52no4eg/6SbpJes77uTvnvAB8Fvv0O8L8Gvw6/Aa8Vfy6PNZ9LDz+PFV8afyw/TE9hL4AfhR9/b1EfTJ8t3xBvKL8oHyu/Il9DT59P8yBewILAqdC8YO4hCoElsUEhRyFOEVYhZbGegciB62IZ4i+iFnI/YiTCMtJSEjdiC2HJYW+xPoEWEPSA66CuEGqwSNAWsAQP85+2v4pvWc9HX2Q/b79M/zRPLr8W/xIO/S7HDqWOkJ64fs7+3S7v3uuu937xDtjOrh6CHoa+nG6gfsxO6g8YX0/vYB93H21/XC83fx/+9w7/vwdfKT8vbyLfIY8QfxhfC48H7xTvFO84L2k/p/AT0HjAv4DpsQRRPGFYMWiBeMGG4Z6hqmHIsf/yJaJEkkIySAJGMlIiXMIywiBSA1HZsZ3xX3EhgRdRCjDrILxAd4A/YBpABJ/9v9e/tj+qb5+fdB9pH0vfJz8g3yJPHs8CTvM+557aDrkerw6c7qQOxm7EHsh+xW7Vju6O3U7GfsWOzF7Pbtee5b783vJu+K72Tw1PHr8+f12vf2+d/6dvp9+JT0RfGO74/vKPFm8RvxZ/Lc9bb7rgGHBaEIBgtLDXQQmBLLFHMWlRfqGIYZiRroHF4gSiOKJAIkDCNfIzYjwiGvH8scVRpWGCQW7xPxES4PcwylCXYGwgOhAAH+c/ya+jT4VvZd9cX1LvaV9CLyePDg7zDwqO8T7fTqf+qj6nDrsupo6MXnK+hn6QbrlOtc7GztP+5u7rnuse+d8F3x6/Cr7zXv3u9g8LXxHvMH9Gv1aPQq8mfxS/ER8+71Nvbf9eb1DvZY+DD7//5TBVsLFxCqEvQSKBVpGIkb1x4RIAghFyHuH4chtSP2JBkmeSQ9I94jhSPlIwkjoR89G9IVkBHvDjwM0Am5BxYFyQLa/5L8jvoh+HD2/fWR9av1M/UO9Fr0QfT18ozx3+7z7CvsMOu968zsW+3+7ajsf+qI6BzmKOWm5ZLm5Ogp607s0O1J7tft9O0u7q7vRPIY9K/17fax9wH4iPe99j72ofZi9zH42fnJ+538Wfzl+oL5M/pn/GD/xgNPCGsMsg+WEeoTFheRGZIb9BwvHXUeYyCzIq0lICbkIw0inyCVIKggEB8JHqMdLhxSGQkVFBC6DBIK/wb8A+//Wfvz95/1vPSK893wue7Y7oDwSPKG8xbzB/JU77DrRukB6HPo0uh46CTo1Of057Don+l26qzqYeps6jrrG+0m75nwjfCj7j/tXu6C8Vj1g/dG+Mr4bfks+mH66vns+G336PXb9W725ff2+RL8kf5FAcsEQQmTDbsPhxCkERIUNBj8GoUcJh44H+wg6SFOIjwkZCYwKAsoWyXKI4IjWyMNIlUdIBi/FN4R8A8oDDwGZQFq/O74kPf59Yv1kvXG9IH0P/OP8bvwUe8Z7tvsc+tq69Hrd+yv7ETsOOxJ7G3s/OwC7Wbsjeze6zjraOpd6BXnXue26ILrse1x7k7v6u9n8KTxpPIv9Gb2sfZt9kH1U/Uo9xL4APlS+dv4B/m2+MT4ffuK/6MEJAn6C5EODhHUE+sXVBv3HfYgvyGEIv0iLyMnJigo1CfaJfwgQB2GG5gZVhmtGOgW9xS0ER8Pow2GC/oIuQW1AloAef0F+sv2kfSQ8/jyYfLO8R/yg/Nc9Af0D/IE77Hsluqp6MfnzOdC6aLq2+o462Hs3e327qTu4+3e7Zzu0fDw8WPxJfDW7h3vufDm8TLyofKp8iny+fAP8F3wwvDQ8InwbvCe8fHzQ/cN+1L+iwAtA9cFIgllDKEN1g7KEDwU2hg3HW8hVyUuKAsojyXKI1AjTiQAJIAiTCKhIq0i0R8+GmAUfQ+6DckMKwy/C7gJYgguBb//B/uK9+v3S/m8+C34xPZ89qn2HfXn8yzxAu4e7LzqC+1+8AXyRvIs8InuZu407sXuJe/B74bxTfJG8PLsteo+6n/rtutP6sfp3+qi7Gzute5m7VLttO2g7vruDe7g7fvtIu9j8TL0wfhG+638Zv5XAMcEZgYtCdoLpwwhDtQNpxFiFxQaKBzeG3od6CFHJCwmRSWdJEEljCUcJoslnyPBIS8gmB5dG8wVzQ+TC3AJHAgBCJ4G9wWDBMD9I/cr857yvva1+Cb38PS08U/v3O7m7Qjto+38647p/ecQ6HXqgOt46pjpaesp7tjvke507cXsnOs26CfmUeoH89H2c/DV6KjnMO5u8O/s5+nD6Vfr+e1G6Gfje+PO4xnmuedO4XTm7PexA44QJwqM/kkBRQwdGJch5iPVJ1EtqC/+MVI1iTiKOzo7XDO2LhIsWC4CM+QyfyzVI1scXBT+DxENzguuCfD/UfZr8rXzQ/Wg7tLk3OS46RDtYexS6bHqe/Cc8orujeot7HvyUvdd9+D0KfWw98f84vzV9d/vPPBi8+r4ufqp9xf4t/qY+z/4pfPe7s/vovCB7zzu1e3h7vnyGe8E5+XiFuBo48vm0eFD3M3b/9u94ArhTd2O3ILgs+NX/M4OYRqEHE4ILgDqE24oBTh3QNo3mDwYQtI+4D+wRgJEGUZFO0AvKS6rLpcwDC/0IKIRZQZeArIJRwJa92XxW+he4izgD9tp4Mzj0ty61kLYTuF57CXqNubg6Qrvyvap+JH2d/qRAN8BOQJgAFsBEgeQBzsCC/2v+JX6fgAlABv9b/on+Mr7ofnV9KvwCu7Z7+Lvk+s660/sQ+zs6eXd+Ncp2pPeiuJG4SHc9dke27/bid183SreeOL948X72hDBF8Yc0wy2A2QVOyVROMBL9UYFRk5EYD8KRmZK8UdlR3VAYTeSMu0soCgZJgsfXhZ3DG0BUPvV+FD7kvRt55Xa7tK31sbbS9zA2TXYudh22sXdEeCM53jvJfKf8nbweO9v9tQBigl2DUEHUgAN/zYBqQabBV3/IPtj+nH84/0h/SP8sfs/+THz/esh6Jbsq/Zl91jxkufo3vThneXo4kzfxt3A26fgtd3P2WXctd0z4GXiK91O4CHgVu5qFykf/ykFGuv40A9uMPo7wVBaSMdBXVSmRIw97ESOSpFS6EdWL3Io9SrLLlgoJxsdDVgAUvvY+sb6kPZN7Hfce9fZ1CXQTNSY2WXa1dn20GPSU+Ir6bzuX/Ct8LP7ggD2/WwCngexC2INmgbeBaQJuAfXCKgCdvvK+7b5n/t+/Sv7KPfh9H/0HvXg8gzxwe917tHuk+gF5qnlsuU55eXhpNzp3R3fuuF+4e7eKNs23D3djd+v4hPe8+Fc3oX+pRdkJi4kOwU8AFETIzoXTulIfkgJQr1HTU1+OIE/fkuLS6tHcC8FGiMl7yqRIoYY3QOa+Fb94fd19b/wk+Jl2VnVLNWb1BLVstSy25/gXNnb0rDbvOow/eH/a/f997X/vwWhCxAOJRBQE7ANfQefA7YDPQZ1CjAD9PoT9ZzwJPch+7L3R/NL7mXsCO/A7MzrN+6+7untwOje4WTimOa755Xko9yS2fDeNOUJ5NPjtttI3U7dXd+h38zhEd9V8PEY9yKCNScXpvkpFnYyv0MeWpNEN0hkXhRAZUG0RFlBSFRmSB4l2yt9IoYb/CEwEEYEGP2+7HnrFvRc7JbfrtTs0GTS+9H7y8zSM9ns2+LbjNs84hbsv/X//OUEqAVvA1UFnRA/GWMYPhKeC6YMRQxIBs8DdAEPATr9zfTw8EDyMvOC9Q72bO4M7dvouupw8bruLez654/laeZr5p3kOOTK43PgGd893pXgk+MA5fDgDt8T3aXejeLT4THky+AbByUg+i7zKwEEhQXDJno/DlWUUX9FDlWUTjJGFT4eQChMjUhSNgEnGRtkHRofcxDfBWj5Tetm66bvK+jd46/UXM1U0q/SUdEX1X7Uw9nw48DhT+Nf6h/vlvg6BB0JRwtIDxEV8xXgFaEOYww7DRwR/w8tB7z/+vdT+Hr0r/Hm8iLx+vGn9XLyIe5B6/Dnsugn7YfrXeqn6cnp8OyQ6criq94p3/be8eTl40/k+OHJ4GXdl9/Q3efhz+Cv4FfgnOi+GqEmEzjlHfX6cBB5M0BJllg8UCJHGFlURYM7lT/0RNRNj0ooK58cZRrUF0sb+w4//GbuWOs17bbtS+SU1qTPFdOfz73QZNSb12HhjOHz2g/fJuiU8c3+DwRBCJ0N5QmuDdMS8hPjF84UFhFyEP0NngiDAhj8z/YG82/0k/R18zPy8e9/7x/tuems6YTrVO/n8t/t++vM6eDp2+p/6Tnn9eYY5efkceEK3QjhxeB05I7fIeDo247kft5w4vfaGff4Ib4pGTUpC7v+Php1OWBRcFUvRsBSFU4MR2A7RDt+SrNN7kHyIvgWEhqpHSAXCgwM87bvvOr568DsNN+D1LHSw9Da0nLS4M2/13/i4+Oa3Y/erulb+jMBhQJxAHUFgA9pEw8VOxTnFC8TdA1BCm0K+QbNBZUEE/7E9aPxvu737mvzZfGY7nju0e4679jtAOrt6tnqquwj6hDtkuxE6x/oj+Di2wXfDuIk5PHkh+Dz4Pzc3dyJ2nbi09w15BjdrgMPJVItcDGfACUEXyN6PkZX2VN6TOdPlEhKRsE2E0TaS8RJyT9LJjoX+RdvGp0UEQtK8LnpNe/c7E/pjd13zrrTTs8lz6bRk9ES2ybgId034b3kn+hW+H/92wU6C+gHnA/BFoAWjheGFMQQJhBfD60LaQswCJb/x/hj8IXuCe3R7LruMfP29MHu3enC5d7nTO2B8AztjfBj6/DoxegS52nkceKn3SnhS+MM4j7iD9t8343dXd482uPhp90x5YzZHwUGJFAsri8JAn4BCh+lSIVONFmWTixK4VKdP6cz3kt/SdtNOT6wGdoXDBuiGCQVmAdd8jHvmukT6ljm0N5Q0unQN9IX0qHOVdWG3CHj6uLk2izfxe17+oYE3gb0BvwMiwrpEMcWYBm1F5cSbA/7Dh0NigcHAxcBb/vu9C/vUO6z9Bbz3/D17TLrBe356hTwx+9x7Xnqm+al5tvoIOqr6unoneWf32HaTNzy4srldeC83praqN2O2zrjo90+4FLZDANgKAkq/DH9/s381SdjPXdVw1WTRLNZTESUPW48qDyMU7BNQjdqIx0TyBZ0H68RPQZu8i7qBfGL8arl/9480CbVUtaR0M3TWNuo3p3ez9mD20roO/Hv+z77MP+uAzQJqg9hF/sYExc/EQ0OKA8yEt4SpxAxCIH8A/Z88oP3iPjL9o3zMPKU8M/vX+yY7HbyhfKE8ObnCuV16c3t5+706VXi/d354EfhJuPJ4Ybfvtsl3UTbGt9L3+HiZ+RK3WHeDuO/GT0pvSxEHvDvqw/sN1BCAV4STvVC4ldHPvc4Rj2bPqhUSEobKWQbgw6wF7ggsgr6+lv0ne+T9APqZNsc287VvNa+2s3PRtKC2MraneSe31Tc7eWC8IT+mAMn/roGAw2wELcSwA6IFGEZjRdcEkYMgQl/CHcIBwZpAd/3pPFf8kXyyvb+9D707vPY8KjsiuhN7JLxTvJA7dTlxeJB5r3oCulj4iLdLt0g3izePd7i2tfdO9yo3r7ZG+Ei4EHjH+LZ8HAiSCRuLnQPQPgKFI477FMuWYZOdUNbRYlGYDudPxxMs0eWR7osNxXQFGYY/hQdD/H64u/08QTvyedn4UXVqdI61hXYvdUA1X/Uvdgy313i6eR55Oft7fh4AwoGSQesCT4QoBJ2FdcQYhIWGvAb2BWrCeICIQH7BtAGRwD2+Mb0HvIs9ST00fPH9Lbz0+8X7KrqVOh67VvtqOqJ6G/l7+VZ5VzfsN1T3sbeFt+h30rbX9vq3STeytxQ4w7h097J4Evn9B4NJ8gr1BWF8ekNITtmVXFQ8k0nPkpIMkgpN6Q3YUVgUZtMsi3qEsESrRpiH98Pm/1J7untyfK+7n3iFNev1BjWdNoC2ZfN/M922gLkYeeB3CrccukO90wBggP6ABoHrRAbEaMPrA8IEaMYoBeuEyENRgaHBkUJFwdO/xX3W/QH+dz8l/xn8xvv6u6M7mDw5O4m7fbtWexc5yDmteQW5EDoR+Sv3l/a4tUf2kvfGd/S3/7adNk23Cvh5OAV4Qbfr+nnH94n+y8NFL/uRhSiNTdTZF41TNc9nkhXQ6I4LD5GScZMYU8OMLAUiBAIFJogQBK3/l3zmvDF89DuueFl2Q7Ts9fX2drUhtr525LWUNuG1fTXWOe+8Dr8mP9r+eD6HQFuCJITYBaxFYgTiBOhD6APtxQ0EIcLaAYC/1UAbv9v+5H8zvf/9wj3HvKW8lzz6PM281btPOjT5V3loOtn6xbnQuH82XnbKNzK3Praudsj2q7cpduZ3GDbIOFe4sXeDeGV4rkaiSihKVYblvBICeY27EevVidM+EHpSGA8ojIRN3hKxVQmUZczgRf0Dm0bAB7nFHgGsfXk9L74jO+O5A3e892V32TVVc/W1JTeAeLg3U/Sy9Ez32LtIvkGAgj9Ifol/BQBYw/XFKcUlRfFFBYPcQwFDVATahS+EH8Drfva+0371f4D/L75vveC8xLzjvNf89fvlO3a6tHn/ueY55XnsOiC4g3e7tYY2AjcN97H27zXBtVq13XaiNqL4UPcz+Ey3KL3oBmhIowcEgQG9y4U+EHQSBdMC040OmFAWzv+KSlLnlOCU9NJOCipFAsf6xzFHdUZYQRK/f0CVfZC7XHord0i4oXeNtdv0NPZr93c367X2tIc1ULj++uU9Vr65Pjw/Gv+DQGqBJwPBxO1GOUUkxJuDtkREA4eCvYGqgFgBgYDRQGU/63/U/sN+O70FfHZ8y73E/Nz7njpKOUk5r7nm+jV5dHfldym14zWxNZB2ODaTNcr1/zVI9ZK267eYtjk293cBw8dHrkjMR+Y6rsDgCY2QhZVWE+SPHFHeTrANI05V0H7WJpXiTyHIq4ZJBsfI5wYNBaaBvsDvvuQ8C7rY+U345zguN7l3wPbitBH1LTXad883aTarN5850Pzxvki9wH6uf5cA58I3ww6EGQTIRWXEoUTRgkyB6EM4Q46EN0GO/tX+FL88AD6Ak7+SvuP9oDztO417tjr0+s97+fs9uir4U/eSN233lTaStZ+1FvZ6tjp2NnT5tSa1/PbldnV2B3YweBUFpMhYx88DJvnzvrQNbNER05ITE0zoUVlPCEpXTmJSA1b0F8/NZEe1xZEHwkxeCHoEZILEwQ5BvH7QOYX5pflU+nq5bLZbNPh1+3aGN/s2MTUHt+r4wvtRu8E8JX1ifsz/xQFHwAHBisKrAwLFbkURRLjC8wIhgYOBrcFWAfZBuUFsQKyAXz+tv2m/JT4YPoE+Y/1j/Fw6/DqJutf6XHnm+Kq3/vaBtiI1k/UkdU51t3XWNU317fUF9p/2FTal91g6xMdDxuoG+T+x+alEyI3TExuT4E7hzUcQEU3si11OJRNc1qxVegtpRZ9GNgnsDBPIloSeghxBisAvvRr62Dodepu6oDh6dk41Y3Uf90o5Ofcc9XU2Z3lifFc9RftRu3B90oA5gSgAIwDsw1JDhcLCAqRCsYLaA+tDVwIqAOt/n3/FgGcBYMG7QBEACT/Xvhb9HTw1fHy9UTx2evP54TkE+F43h/aEtv125rYr9Pt0DHQs9Rv1l3WM9S92v7Xadq73QPojxmKHAQjMAPY6NUJBDV7UidREUk8NRw4PD8ONZw7FFV4VQFSrjquHVoapx/6KyMsdx6IDTEA+/uY+LzvEOhs5TXn/uhF203P49BG2JLhdOBU2yPbYuGr6Ufw2/BW8w/1S/scBdAHbQfHBEIGQw9+EPYM6wruCaAN/ArrAtD+uP/dA8MKTgkvBQv/n/en9IH29/X49NDzUPCv6yjmbeHY4cLhA98q3KrXE9X61jPU/dPh1TPVVtfi1tHZRNo0333bXQb3FvUWzRVQ8UH3zyXOOExNM1D0MXdCAjqlMSg8rkfcUGdZ60DJKsoc2x1RLFEpsyFVFrcKiQAg/PvuS+9z6prqKecC33fVOdk32arcotyZ2iPfoN995t/mbeva8oL4LPu9/B79YwPRAkkE/gbGCvQPVg49CkgEcAA4BDAHzwVSBV8C6gXxBvIDFwC4+Bj5Kfsa+KLyi+817UXwJe0a5c/bONgQ2vDecN5r2NTVhdGV1LDUH9fd1jTdedvh3T3ZcPSBEkQTaiF6+Yrv4xebKblIkk7INQ5D0j86MUo8VjucTbVeLEYdM3kkmx3kKWMnUSKtJAQTAQZu+efuvfFH7w7tq+kM5SPckdRuzzrWxtsQ4MjhRuBj5Rfk3uP/7aLyLfqv/kP9MQSCBDEC8v8hAwMMDhCZDr4IbwQNBaQD9gCAAIADIwn4CnIKfALs+rP27fWA/G39xvpt9bTsi+pc6RPkmuBp4FHgEOEX3BvYqtMw1nfXpdd519vZxdxq20reZ+EcC8wU9hYICWrqtQQbKQA/uUSUPOI1/EEgQzoyfi8QQxZR/Vb9Psgg1xivJAQvmihPHkcOWAlFCBn8xu8H7ZnpZ+247hne7M6jzgnYLuG04T7XGNUq4Gfp4e4i60npnvOF/gL/X/8l/yr+8AW0CHkHLQa5A1oGpQvHCGgCSvx1+7YBYAmwCdsEvQSEAL37x/ln84/zVvf09cz0F/AR58LkIOOq4rXgjd982tHb6dkC1yrVKdPw1RLcpN7z2+vektoCCdgXlxnhD7vtU/7DJh8+skd3ReI5xkbBQ80xCTNUQsRNp1pXRSErDh4dHScoBC0xI/UUgwrxAZoAcPM55SnmWOtK7nvmNNHezODT69rr3C/ds9YJ4Mbrv+1x7gzs7+jK8f//5gN7CMcECgXMCLcHwf41AesCewrWEswMYQNV/S38WP17BTMEjwZmBusC6/98+T3xFvDq8BzyC/Sm7u/p/eFw39bcT9yH2WXbW9qu2/vXlNeo1K/a8tlO29jd5eJZB1ESdhvXBlz4RPoVGq02QT50QilEIz0yQN4ygSgHQ3pPQlNQQjkqbB+/JhQmbihzHBgauBA1BXn3avAd8g/0Fu9P5LLaQdGw1JHant2H3Izc8NiD3sPgkeeW7Zb2IPjh9vfz0/UF/84HggykBwAHUQN8A7MG5wU4CK4ICQRQAHb8IvzuBEsMKwkRAt/22vKp9DD2DvaL80rxh+436/TjhuDF3cjdrd7F3ujc6Nfi1InWxthM2LbazdXb27HZAvOGD+oWLxuAAXbwkAYVKgk8O0MEQetA+0PlQLUuaDcOSkxTX1IJPDwlfSkjKcgmtCvKICgYrwx7/cf3hvcj8CHxyukS4lPcqdBizVHXYtuH3qXc6NcW4W/ke+j677Pvo/EE+OH4tf/bAlcChQBBA4MFuAexCKYE1whpCE8DkP/l/nn/qAhRCVcFTgFK+936zfke9lT1MvTt8MTvLus25yfhCOIe3zffM9lv2cvV+tXf1tXWgNRA1u/T0daM2OzcUAw9DpkZLwui8kH+mB0tMZY8mD6YPOFDdkb8PS83R0bqSc1Uz0m6Ma8k/C37L9gzBCtLF58NPAme/rT6KPeh8hb0bOWi1tzQzsxi0v/f7t4v3bHWv9PR24Tmt+lM7ErtcPGK+yv9Lfks/I0BmgaHCPME2AF1AXUGsQrjCUQG3v///gQEsQU1ChEF9fvC/db95fQs8T/wte889djx4ukw5Preid2J38baytpU2wHXEdVx1hbUh9Ii10rYwtrH3uzqLwEHGqgVeglhASgEaCGfO706dj/dRlJDcUfGPr04I0jGUO5KjUe9MSos/zCvLQguOifSGrYTzQNO/JX7bfGd9DnttN+C2DXQY86y1/fZcdym3L/VD9Wf2+/gn+nX8ATxevDf8UH1lfnn/sYAMgWXBRMFwQJXAs4EMQrNEN8K5AEn/vj9xgOOB+QDoAB//QP6ifh39FDxc+477unrOem55iLhYt6L3n7g/toJ2WLUldVp1iPVtdIZ12/UNdqH5FHyBAr9D5YRbAcRBVQWmSh9MV0/tT6IRNhGYEGGPbJBKkoKVU1OIjfuLvkquC62Mdgp/x3NGAMScgg3+RXzmvFz85vsr9081PnNx8853hzfVtg92XrTHNdC37HfteN+6ljvH/VO9rnvSPXH++v/fAWuBFgA9gFiB6AHnwrbBgUFtQYDBbUENQQm/vf/+wAb/tz5XvV+8370cfTM8T/rBeVJ5tLlduSQ39veoN6i38Pe2t8V2yPbBdsO2mne3OPi6E/2lQYgD7kavg6zDPAVqR8CLe41JTcvOos6KjgJOiE+XkGNPbI6nTOxLrgq8CRXIVQkTR8vFqAN8wG+AAsAQfg987TqQeJj4S3hhuCF4QfgSt9p4S7d2Nuy37jk9+7J843wl/H18Vz1rvtQ/CMAYQK4ARkDWgI8AkkEXwXhBpIH1QTSAcEBeAFuAksC2v6z/H/6OffH9q/0rfSM9U7x3e3E6g3ol+g46UjmquUf5WflRual5VfjmOLl4wPm8ujw60/t9fKK+UX+AgM4BY4GfgzyEXwS9BZgFw4c3SGbIyUnsSgwKJ0oACiGKGcoWyZqI0geBR0IG1UZEBk9FsERxw3eBm0B2v5v+lz5YvvO+Yv4RvbV8kzzofO88SbyM/QH9Y/4afii9Zn3O/eD+JH7O/yr/Zn+Pv4V/pX9Rvph+t77iv0j/rX9bfoN+gr6Svkg+1P7yftY++35xfZj9ib03PJx82Dy9vC876nu5u2o7Qzr7+j35+Tmg+e26NvouOnn6jzqyevu7Rnw6fQu+Cz7FP7H/oL/ZgJDBQYIowuODH4OBBPuEwQWWhYfE9kSSxGVD9cPnQ6YDXgMswkDB60E5QSvBBwHBgf+BGMGhwR7BfcF3AUrCLoJmwsaDLMMFg2NDooPOA+EEI4QZBKLE70ShBIEEZoRdBKBEJkPdw5tDFoL+Ad+Aj//jf1d/Cv88vlk9xD2HvSF8tPxdPBQ73ruFu1p67rq3un45rjln+RY5F3lleX05UDmp+Vu5Vjmauc36g/smuxJ7u3vTfKE9ZL3lPrw/N7+CwGLAVkB6wE+A2MFTgd5Bw4HNQZvBokFIwRNA00DJwSqA7YAF/1D+cn2nfeT+VT7/P1r/ysAxwJcBesH+gqYDaMOtBLHE3AU9RadFicbsyDBIDIi3CBcHhshlyFqIlcidiBgHyceaRuDFw4VghH4D98NUAhTBQwBKP+3/dj5mPiZ9qX0sfK98E3us+z97OvsXe1j7HLpeuc+5rXmnOeN5hfl9OPk42Tkl+X25xLqCutr7KHtgO8K84z1MveD+Of4CPrz+5z9Yf+o/zL+0fxY/Z3+sP5X/kX94ftU+6H5Hfe89Uf1qPRb8wLxI/Aw8fPzuPZN+BP7U/wjAFAEDAYPCbsJPg3EENcTzhZUFQEZGhwqHkshQx9gIfMjriXLJjsjrCBpHwQhnSD6HRcavxNqETMPOgxJCr4FXgOzAav+P/2G+4r6jPpW+qr3f/Qq80TypPSw9VLzF/G37PfqcuxN7Dbs+epp6ZHpHOq56p7rS+337hXxWfIz82T15fYq+AP4dffK9yf5F/vF+2v6pvhd9732UPc+96D3m/de99j1WvOJ8PDuNO/S7jvu+uwM69XszvCl9TT61vld+3b8PwCiBikJLA3mDhcRnRNFFGgW8RgNHpIhcCPWIjsh9CMxJUEnHyiNJEEj9CCFH+QeexqAFnESSw8FDXgK0wZDBGUDrAE0/7X7+Pgb+cv5hfkX+Oj07vMO9Mv07fOr8D/uGO2r7cTuE+887lnuD+4D7XrsSuzj7UvxJ/Sg9Qz2MfUC9ov3Yfg++Yz5WPqA++f7ivqd+F72AvUw9Anz8fJ98nnyqfJ18VPvgu1N7AjsCu297N/r1ewW70jzTfbr9z/5dfsOAN4DMgjiCmMN6RAKE88VQBfeGWwdWCHrJPwkyCQMJZclzSZ3J2wmziTxIoMfmhtyGN0UAxLND/gLnwmEBhUC5P8B/tX7qPvH+zT6S/kl9+z0evXN9P3zPfO98FrwNfE78Jrv/O5H7Yjt+O3v7l3wyfDe8R3zWPNC9IX11vYv+R/6J/qq+Gz3Pfjl+Bf57vjW9wr3pPbS9V701PJQ8pryYPJk8OXtHewx6xPsk+x6693qY+ot7BHwBfQ8+Of6Q/tX/fgAZQSOCWcNpw/tEnsUFxVZF+QZXh7kIvIjZySXJSImKCecJwQm2iTqIqMfNx3kGRwXuBVtEqYPoAx0CCoFewKqABz/1v2E/Gr7rvn490n3BfZW9nP2/fWM9nb2DPaC88zv9u2e7lnwVfIc8+PyrfL+8cHx6PEf85P13Pdn+CX4rfee91P43vgr+Zb41vdv97j2Bfa19A/z/fH48M7wx/FN8VTwZu8E7dLrUeuA6vDp2+gY6HTpp+xE8UD1p/bv9jz4UfvS/6gENgmADFQODxBSEUwTcBeCHJogTyPYIyojmiNwJOcllCb+JPEjlyIXIIAd6xnOFU0TEhFWDwcOhgoQB+4Cjf9y/qL9afzS+2D7W/qW+Vr3lPa+9hP34fdR98T1sPQY9EfzNfOl8h/ygvJC8+Tz9/MY8yfzePQU9u/3Z/iY97T31Pcn+M34V/hS+PL3lPYL9UHzx/Fl8iPzbfJs8WPv1O1w7TDtu+zH68zqguos6ljpMem26pHuzvLr9WD3O/jY+rj+4gJfBr8JqAx9DqUQHxJzFEIYnxsQHyUheSEWIu4iyyOSJRomqiTQIjQfqhvCGf0XFxc2FWwRKQ5HCzgIuAXuAtQAsQBTAD//TP0T++n5o/n1+A347/aR9h33cPfJ9v705/Lt8fjyDPQm9fj0IPSw80LzjfPp84X0lPXY9ob3r/cA90v2Rvfw+CT6+/l5+HD26/R089bxAPFa8OfwN/ET8GTuvuzN62Tr1uqJ6UDoJOjF6Hbp+eqA7RfxzfTU96n56fuo/kACzwakCSMMvg0MD2kSJRaOGs8eZCGAIr8iCSO7I6QlUybQJcQkVCJXILsdaBo/GFkWgxRJElYOrwn3BakD6gK4AjABQP+w/bH8kPxn+6T5yPgH+ZL6FPuw+Vr3VvVx9K/0BvUf9Uf17fTT9MX02fSj9Wn2F/cP+E74Gfhl94r2xvZZ97737/dd93b2xvU19bH0d/TB83TyF/F+7wnuo+x060/rl+yp7Lzr6umK58TmkuaU5tPnYerr7SLyZPRh9rH4KPtU/4ECzAX1CN8Ldw8KEhMV6Bc6G7cefiHrI30koSR8JJwjjCPiIhoi0CFlH94c5BmIFuAU8hJbEKINnAptB8EEOwKRAAkB8AD8/9n+Qf0i/Xr93/z1+1z63fiW+IH4pPjK+D34yfeO94f3EfiZ+FP5vPm3+DP3IPYa9n73w/hS+S35E/gM94H2T/Ym9pz1evTO8kvx+O/97tTuge7f7RHtuOtt6mvpZOhe5zDmBeVh5BzkuOSs5o3p3Oz57zbyLfSM9m35T/13ADcDgwYNCfsMpRC7E9AXvBrAHWoftR8EIRoiyyPkJDQkIiO2IeQg+h/VHjEdExvSGBIVDBHBDKcJQQmgCI0HoQWXAo8BFAFjAKf/Rv68/az9pf3//GD76PlG+SL5k/n7+N33NfeY9qP2Q/bc9fr1vPYX+L34+vjG+Hf4bvhL+Lz3EPfT9ub2EfdK9or0hPL/8FDwAvBh71/upu0+7T/suerL6KPnrOet5xPnV+X54xHkxeU86XHsZO/C8UbzDvaL+Bv7Gf4kAC0DWQb9CFUMyQ+TFKEZ0BxnHmkerB6vHxUhyyJzI6gjcyOFIuEhnCCZHhgcSBgZFb0Rvw6YDVkMvguyCoAI9wZtBTUE3QMTA1IC9ADB/pz8NfsL+x78YP26/Rr9bPuo+R35RPn0+cr6vfp9+sb5K/nU+NT4iPng+c/5VPmj+LD4wPjK+GX42/Z49Rr0HvM486zy8/HW8E/vmu5h7fjr5eqQ6dbogOj/52XoXuiG6avqfOu+7N7ttvD38rr0j/Xb9C32ovgr/N7/IgGSAlUD4QOoBDYFUwZgBwoI7waMBhMIfgouDzwR9BEqE8IR8xLqEgYTeRZjF9EaLBzJGiccjxodG7sbsRm5GeoXxRZQFjwUxhPuEWEQcw46CxYK9gdFB+cFEgJF/477gPlo+OT1wvQY8wvyVPKR8aLxtPG/8TLyCfHa7wbvf++e8Rfz5vPk8inxFfCJ7zTwPfEM8vnyiPNO9Mj0FfWN9cP17fU29U308vPy89b01fXz9YT2x/Yp9yH3QfYU9e3zs/NX9Bz1/fWl9r72I/a39Cfzr/IO8+nz1fQE9cf3w/qM/noBTgIeBYMHFQsnEOcSbhUxF54YdxuhHrsi+SbsKTkq6ifhJXQleCYPKFwnQSapJFAhvxy9GFsWORVeFBIQCQmaAov8y/hi9m3y/O9h75DuJ+5a7W/qrej/6NLoVOja51HnsuiY6wztKO3m7WXvD/Lc8+HyRfF/8u3zhvQF9tn2NfiW+vr6f/pF+nH6evpi9/r0WPZh9wT2NvTB8H3sqezl65PrDeyb6VHoxudO5N/jFON94tjkRePz3SXfzvKnAeUR5g4WAVoHlA/7FqofpR5ZJG42AzdBN+A4bzfGQb1I2zp/MNwnxSSwLrAxESwWKIgg2hXWDdAA5vjv+qX44/Dl6prjduEW4gDdedmB2TLXq9j020Dfv+hz75Lvxu5Q7Yntd/J++Nn9eAHVA0kG1wc5CkIIWwW3B/IHpgayBT0C/wOTCRcJVwW6AID6AfcY9qDyWu8m7jbsD+t96abhzNwh2tzZtdwH2yTZDdrW2n3cAd2b297ez+GQ5Ink8+Wk4+H9GhfMI7Iw7BnXDowgnSkCMjFAOTbmQZRW3UrJRdJEQzseRm5FgipMIi4gEx+lLHEpMxYkD4j/TvPB893p/eRJ5xPhxNwc2IfOxc1E0hzUKNQ204/TxNpP5SvtW/G280P1oPaK+5T/2wTfCfcL0Q4TEGoPGBItEHMObw9/DDULVwl2BYEGQwjRBa0Edv70+QD6WvfQ8ErrC+Yr5Bvn9+bH4n/eldjC1d7YrNdV1x7W6NUo147aKtiw2hzbGd9r3jzrmAQ1EL4hyxPrCVIRNxqaJvQzWTonQF1JK0h0QUxFjEVhQrZECTcnLZssYysBLzgvUyRqGBAJRfr58wv05fIA72vml9p71s/U7M6izXTP2dFw1dLVstSe3OTlL+w98NPsxuxm8p76FwOdBjsHvQb+CGYLtgeuB7IIggpgD3sLTAQNBHQEdgenB0kB1f0N/YH8Y/kD87HrUuph6UHnwuMG3eTando53H7ak9im1D/XbNhb26/agd1K3lTfIuJR5WcJIxuoJwcgQA74DzYpATXmM+BB6UTCUgZe6EdPOilKykvFTPlBxiFpIIg0TDCcK2YeggZcBS4DiO6K5+7lMOHb5/jfgsqoxlDJzM/u2dbRNcaPzjPaxeRq6hPlceuP95r6sPby8776OAqUEwsPgQhZB2YLrhE4ES4M6whfB6cISQxkB0UGNAegBq0IU//69O3xH/NF9OPyfejs48flD+Ra3x/Zx9OL1DnYH9U71oTUf9Zz2KPazNJh1kPVO+fICB0TXRg7CI79OQ2ZI0woyjCTMshElVBWS48+VzkZS7pT70UdNyMoey0eQyg4eS4OH0ANbgtBA+r2w/Q17sDshOoj26nMYMlJzOnXs9mrypzI1M+72yrn2OJ+4NfpNvHN9Wn0PvJy/KoJyQ7sCpICygGrB7QNjw0aB3cEeQqVDSMNSAgfAs4FDwqrBngAmviJ8/r48/WC7xHpGeXP5HrlSd4R16HYONtc3U7bT9YF1J3Yvddr2gjYd91N2h76VA8+G0oizAa6BygZ8SzzMxo+ej/OTYNZZkxCQWVLU0kxT5ZEgSz0LGkyYjVVM78nUw3HCSH+IPcd+Gnq6OVY5mfbHdSLza/INdAB08vOscyfzk/U3uA159nlPOkd7Nnuv/fu+kD8/wREB7EHxgqbB2wIuQy4CQUKeAkLBRsILQpQCoQNzwj6A0cDsf6F/an62/Wl9B/z1e8D7fbpq+Ne3QTXk9Um1r/adNpk2S/WhdT00yjXttd62MTap+CEA1kMAhl7DLD8ww1RG9AqTTTEM3hBJlTmSQVGjz6RQ8FSxU6wOmYvMCwAObI/ui+pHIMPawl/AyH98O1j6tbtjulL3QnQU8cTzYfVK9NBznHLtc9k2i7jA+HL4ovpgusm8dDyQvDE/OoGpgniCSACTf60BNMHSwnxDJMITwjDCFgF+AUcChUJtggXBVD9Bvu092z4Bfrw+bPza+6y54HjD+J339ncBt2Q3DHaSto11a3XAdiP2ivXWtrg1qf1bw5MFiwduf49AQQb+yP3LjM3qDNnUptVL0JvP9lBgUw+W1tABi2kL4Uzs0EJNyIjKhTMDvoHcwFi8+ft6exn7azjKtWlyKLNntYg1nHQ8MbmzAnaIODk3SHgGOQa7nbxa+v47OX3HQDkB00DBv1+AmsF3wb8Bx0FwwUUDD0JngW0BcMFcAqLCqUF5QFUAUr/Rvow9L7wt/GG9F3w3+jZ45HfduCn3kLdXdpm22XZBNk419zYS9d92rbY2ObSAMAHeBJCBG//LgrSHNYgSSwNNtQ4nkvfQ905+UinR3pLa0m/MWgznTk8O7A9aDOmHy0a4QxSBOoCzfm89u3x7Oay3xPWHNKb1GvUNtQj0X7L7c1O1ufdEuW24i/fauJ95+/tmPFE9KD6WACnAKn8GvuT/UcHJAq6Bv8CQP+aBJULcAzxCjMGxASwB0gF2wAa/Tr7d/su++bzvu8n74Xsbuoy5R/ePt403XHeLd3u2sfZ2Nhi2nnYldyU3A36MQcAD5AQwPuDC7sX1iGzLKoqNTf3Rw1Hx0RJPnJFFU5SSxo7hC2uMI43qUKUNY4ieRugEScNygf79b/0xPYd8UXsHNvM0SPYftzI2HTTJsutzlfbg+Dl3iTfbeCf5BXqK+c15mPvePhY/X7+qPUa9j3+IAOcBtQERwCEAgsFswSRBY8GbgljCk4IpQFV/jD/LADE/iz8IfX3867zMPAk7gzqoueo5Gfj6N4w3j/ej99a3nre9dky3V/dS+j/+cD+dQZSAZgB5AaPFE0bHyA4KfEwLTZ2Okk7oDv7RG9FSDrdNicw9DHJPHc2pDDQKCEdnhZPEKMIUAKx/7/6VPXc7x/kJeP34fLfj91F18nUr9dk3TXgO95A31zgYOFt5a/jfeTv6kfw8vLI9Z/ywfVS+yL82f2w/bb8Nf/TAcsBtgTYBXgIxAjjBXIDVwAwAKMAp/+3/nX+T/xM99DyDO0k7Yfr8una5eLix+Mf40nk0OBI4JLeO+Gi31/zcflb+mgHEfkuBVsTsQt9G4kgfCP2Nf4t4TECOGc58kU7OzQydjQ7LCk5WDjOLZkuqyTSISUdmQ7WChgIfwSKA3H34exm7uzsWOui6MTafNtA3Kjb7d8N3P7c5+OV4Ibgfd4X3SXlF+ns6WPq3OzR8Dj3lfgU+KP2aPg1+hf8FP8dATcFYweqBaQDiQOOBRkHDAX1AY/+PgB8AI4AjPyR+NH1OvI68MHssew67JbtWOqj56zkeuSy5aDn++Oa7X/2BvWTAo39KfygDS4MBQ/QGZcVNCH3LJonuC4lNH0w2TrmMVMqDy1vLBgyKDL3K78oTiMzH60ZOxDWDrwK1AiIBBz6//QY9XzwAPHL6fPjBOK04lDh1OAA4EDdMeEW3y3g5d4j3wbjGee956roA+iQ61LuL/Fb9Ev0sfdc+rr5MfwN/3f+eAaCA+oBjwWLAhsHPQcNAtYEWAMzABAAh/g99gb4c/f49ZDyou+S727veutz6oPoCuk063Xr1OXk9SH8XPYgBS/7Qf2oD1UIYg4sFNsRSSFsI+0j9CjAJzUvfDG6JHopXCO0JcQxcinaJkknoh9uHtMZMA2mEmAMDQk1BXH6rPiM+Tb29vUQ7ifp++g/473mrOBD4O7lFeMp5E7kQ99Z40Plj+dH55Hle+g+6rTwhvT188T4dviN9K/4/PhG+Mj/Hgea/5cGAQQ8AV8MlAEEBBsGwvyVAs4B4Pt1Atv/Jvu7+Dr6pfG18fD1du8b8hH0wfDj8PzuT+0j8XfxUvpO+b3/OAB+AFsGoQcPDHkLYw9xFpUX6RpbHtYcdSjgJKcjgSVSHPsgByYlIUUh8yCSHU8b7hmUFZsQYBAJDYsIxABp+xD4p/rr94n04PN87STt3uqe5tLl2eRd5RXqO+W25IroROl+62TngOrI63rp8/Ap8obtb/h0+vL4Nf8M9sH8qv62+I0D/AE/+kUFrxD3A2/8pwWuATr+PgOb+cD4gAB/+BL+PQAV7igAUPj/6Wv63u5q7gH7puxd88374e6P/PH2zv6UAMT7egXg/7AFqwsKCA8TdxMmDAcfyBT9FXsiPBXoGwMk1BVHIOUZhRn0IaoUchpfFu8SGBViD+UNKg4aAIILLQQw9ZkFdvZl9kX8uuuj9Onp4PPv9r7io/Nt4QXsgPGJ423xZvPf54bwE/Yh5yT3kPS98LYAxPPl8NgJ1vkq+DcGkfdG/dH+YflBCboEnPxnC08DDvkCBjz9LvepB3vz//3tAYvx6AKd+CH6i/vD9Tb54fb67AL9RP5s86X9Y/Xx/AD7w/p0BbH8zf6wDDwBkgcMC54ElRHRCykNnRLgEdgTTRxoFZkTDBgyFFoZLxV9FUQTKRT6EgYRahELEfQQ/wuUCEkBbAOJ/pv+Of3X/Vn6rfdnADHu1/FD+RHq/PRB7HXoavq46DL1ofhO4nYB1+aI6X0Kd9fG/vEIettVD7L0reSDFQrttvdREEnsHwCCBTP4/Ay88egOuvqz+k0ZZ93TBa4MWezRCAX7YPDmCo7pmAWG/WnenQ237wvyLQMC5Wn+QwjH4FMKqwHz6/UPHvqaAAAL3f6pDMIQSQATFHQMLgU7HBEN5wnEHfYYyglbGNYR0g1kFlUR1BHUDr8Qlw9tDqALggwpDOYFuwYyBYH/Xv6CAeP7jAFN/D38LvqE+eL5XPH385n4hu6N9Y/3pvRJ+KztmQDn8xL3jPPI92H5DOr0AdT+yeZFCz4C6edbDzP5PuEKISns4uZsIavhLv10ErrtlvX7DyfxafQvDNf09+SnGAHoBO5OJtnJYQeZGDbNWRSD/xzjZA/99aLpoQ6l8Gf5ihhM7McAWwZH+dUGMP0CCGMMf/baGrH+if4PHQ4FVf6LH4wAdAANJuHzIxfLGpb/zhJzGO39QBXPEQD8XhnYBHsG1BMfCPkAWQqHAJb+pwnZ8ZsHxAQl8mr90AX08Fr2VAa/6fn+QfOj+NLzvPFk/Sv5Vfa/+7XtbPl/Aszn6wRR9JLmIhiy9JLavRkSAmfeqwi8CE7lOexoHs/rw93jMuvUjfFJKj7GUxWUENi4g0Yd3FzRaExiwOoHrRqN1BMiFfBz5M4trNq3+F0ri9stAEER8vac9L0MjAN66zEgP/ss+Foj//EuCEgWlPRpFNEMEQIEGcIMTweZF/wQbgiIEBoP5w3hDK4Ryw1HCEIPrg6pByoILA2qBcgFDwS5/rMFwvfIBbUCEPjs/j3/4PJs+FT1+/tJ7uP46/385doQ3t7IAsLrXfIq/+DjqQo/6xDj0yQQ5ZjP6zyVx+7rhy2mwl392CLFvQwh1wU8utU6bu+6wLRBr9Vg3X42bs/7/wsFh/xU+YAAlf9+AlbxrgceBSf0eglHAN4LiPg5DYP8dAHiBOwOZ/ju/bsaPvLeBm8UJOCJINAHFuFBK+bp7QqaEtzuHBMwBhoAKwVdD20DzwcHEVkAWg0VDNcGvQzzCOoN7QgKCpMPnQfHBPEO/QclBBMHXwYJBXAGUQNsBjD/U/woAx39QP3a/r75CgGy+bTw2A3T13wWJ/Mf3JQl8sYvEr0CwMyUInTWSesWIBXA4hvd8wfVRyvUvywW1ALGv9s+OMyg6S87WqvSJNUXCa6lTl/F1/3XJt29bDEU+UXcbh+oAq3Q/T6QzXj9TC9CyJMfcfme7RUbUfTu9ygcReOYE1wEkeuAJgHUVyNFC2vc+TFq6jYGfxKP/DgGpxYz92wKtxHI9Aklf/K2CBIamvlNBD0Xq/0YAE0bOfWRDTYF2gSNA8j/GAryACQJ+fgoC0/7mgNgAY4AnP1a/kj/yPv2CW7rPBCD90b9fPxV/OX1Z/hhD4PfZAvcCFTT5ST92Vz3LxvUylofD+RmANjyZvyBAWfhxRBq/BThhwSyCbHUWi/z0DD7jCzLqdRIIuFY4wEoIuil+x0JsAUv1uI8atNqAiQtCs9lFZcZX9bfI8sCsOHePNLIEQ7uOna30iYyIE6/WzYo/pPNuEad3TbhrU9buO4c2BsvxUMqbgG85r0bgAfv3nIwdu4U/mYYwO9HEdb+GRAbAHsGxhDj/W0OeQgrAM4MnAa9BuMJav2vBtMMv/chAg8JdfsTAt8AxP4d/wD2hgOq/S/rAgnJ/yDu+fsK/jvwAf+R8vz3zPkL7sQC8vnf6Q/2yhfiySEOyAvFw4kpEeyG4nwggOFo6yAzW71ZCoYnO75hKarzWut5Hhj2T/ARFa33IwSrAmz5sRC/+RcBJAtz/zr2Rga4FeLXcyTC/onUyUCM0esIew7U5SkI4BFD3qkb4vlr4ysmaOmvAlYBYAdO+A4Q2vBAE/3x2xOkBJ/3dhAzCXn9nQLUFy7uEB3o8lMVbPnHEnn5LhHNADX/NBMe8gYQz/uABaQEKgH8++ITr+sJ/VcX1fOB7EsXFvE19oQPH+2Z/KcGpODyIgLm9edvIPrguftnAu36L/DxBsL7he3+CgkHRs9HMxjbk/f2Jv/K0SQG+VLmACsw47/xBjPNz8wUxAHM/Gj8Z//lCyLv2AVTDQPn+wEzIai9GjJK8xTWsDnH0OUAkBvTz/kcX/ur6icRoPEZBuv8kgVa+o/+7w6L/Yr38A99AwX5og0FB/ADJP6mDYILRvvNET72eAtnFMjq6RqN9o8GHhAS7bYTm/YjBigAJf2i/NUCcwR25A4cGeqUAlsCsfCcBBv8ie1JA/oOhNGrJlPqnfHNFxLjZv1BFU/WPRgDCKvTczDj3eYCwRY+4ZUEyRFP95HtDBqR+jHlhDIN103+OiYU0q0T6ASJ8vsIPf0f9kcNVv++4Jojoerl9IgbSt7sGhrnEwfaDWTgqg3lEFnagxueCX3R4jr61GgS6QR787cK4APP+6ECExbw48gTNQp09o/1nTAO3qX1Bzep3Knv0j9yx5wM9ibXyBYdRAcv2ccaRQep0MQlpfQz74oDigWk953v7Be75kMH0AUY938LtPUCCcQAvQJv/CMRuvEwELoIRvTRGU/00w17/hURS+3UFgwEN/ceFm/slxP4+8YDGvqpBjT4GQS4A5HvnAkJ/kP7bfmzCIrthQKSBQ3x9QD1+/n8+ADc98L5rQ8D2N8mmu595t4lueA19rAjT+DQ7X402MVEEDsYd9GxGAMSVsMuMnf7atNNKuD11NhrPs/Fofh2OfivITpO2ZgADRi94oP06Rh770XwIhY37mv5dwTiEPvTtSdI8GfsgSMF7sLz5ROI/uv3QBNw+Nv6GQ+aDcXbeS+o+y/YqEEz5Db0hDPW2J4N9SU80vkkFQON7EQmUvDlA98RkPZfCHAESf0FEMn1PARlBNIClPteAlz+5/4oCoTswRDP9CkAN/92/OIAVQAr8SEJSP5r9JUPpebwCZgGqfGG9tEVLt4TGb/3xvRUDlTvzQwo7bgTxPG2/zsGyfpt+WQQ2PM+6ucuO850EEgNJsofNznOUBXf+OjkTy5Rvp4mUwfgru1TruNivyRjq6e/GAIx96/GO7P0sOLCLAbjzwOsGHbnCxjH+cQDXg6R9XMKrw/Z97gDBgaTD/TzLApwEdDq0yKw8akCgQxg/z/5YxXD55IIHxUx3bIg896JHUPm2ABa/nz1vhG72VgcnujMB273iPMYB530BfOjCbXxlf6vBMbo4Bg95+v3xwxhAh/cAh559rf6uA7O37MXvvjg/j7wthSg8Uv/+QiPAYHy5Agt/k76AAk98tABbw3g5nES1Axlyn0+St/F+AoWGupBCA4Pq+w4GG4QoNMCOEX6TPDAF2MNhe7GF3gRcOaOMw/uBAW/L0ff0Q1RIz7j4BJeFgnmECaF/x34UxeN+mL7Lgl6AzTvEQ4z9zADIQRi9Kv8B/rmBGDny/80+AD19f+96/ADBfAN7LYAjvXH7Mv0+fxa64wAY/bv6lcGdu+W9rkCxun3A0cJaNqAI1/nmPowGtbjKBAD+TwD8gIuB+nn/Cdx6Kr+dyNpzoUoTvkv6lsaCQIT6T8ZqPpL9qcfHN9nGQ8LWecxFBwUXPFkBd4ZMPHmGEsC9QTuEhn9ARWaAxn/FBOGDZ7zYB6nAGH9fBv39AgIfw7C/FH91wrK/yQA/gOl/D0EdAGV5zYSUP9o52AMYvBs+u0BaOonCZLpLAOl8pbxEQeH3db50wkT50PsbQ3B2ygJ0/XL9d7w7/9R+e/0Q/pN/Vj/9PVkDsX27AJ1+0IE0AQ0Aq/zmRb5+SX9exXL9DUKogPdBzz/xfseFaT12AksCJTuUhkfAV3x2xX2A5DxlBOLB/vtxhefAsX1ShZzA9j+xAbhCRACvg2y/CwFkhBS+ZYMwAf5AloFJv0oDGYFqvuUAKcOGPqe+5INsffb+0kFBAFU9+r/9vmR+XQBMvk69e3/e/dL+LT5E/bD82ABiOnE+Zr/SOdD/pH6PveF7UkCJvJW+RDwbAN1/Un+7PkS+igSR+2OC5H/U/6TCc7/awZ8DXv/CA2YDnv8/A3lB6H7ARWeAV8HQRY/89gZmQVH/l4S6vUDCXEL//otCU8J4fU7Ebz/h/8sCxXtCA5QA8z1jgY5+CsBBAo/9rD+HP4Q+8b7zvl9/9j6Zvd3BKH6NPOd/Y732QGg8EL5of539/T+avgT+4f29QHk72/8oAOv6AUJ6vtQ9UsFAOWpAyMFyuL3Eg3qoPvqDW7mNBGq8FT03RPx6qoM3v+48PUdl/AaDz0QnvU8E4UEOwgyC1QJOQ28DgANlAvXF6MEvArFFWkKHwsfDcsMQwoeEdwEQRBHByUCDREMAiQF6AWAAJ0CGv8I+xUDU/2d+JIDjfgZ+hf8AvT8+EvzFfQr+Kf0UfSe+D70IPLT+qDt/PDM9+fsuPIo8tz1zPfn/KLuZP7m/OvoSANr8i7tPAQW+7b0nABy/Gz4jP4BAGjzKwMl7f743gbz9eL9k/0WAK38sQe1+JH41QQUAtr2awn7AMP9MBfJ/r8GghYD/hANNhaN/g4R+g8rDOoWCgnGEwkYkhA3FU0W5wsBE+sRcAjxEtwMcg9aEvwIMw0GDUEBrgks/zn/AgRe+/79//9p+Gr/awA17k39OvLX8Hr+EOo37ln5fu/J88v2/O0v8Hn0ju4k8VfwzusH86D6qe5o+cHyavXgAGjoP/wu9ZTpRgda9h/yRgb080UBlgdb7vn4QQHf9DT9jv+O9nEChgdM+FYDQf+29dsCnPsv+r4DdQKP/nAKlQyPBawIzgOsCL0NaQM1C+IPJw13EqIW2hJyERUUdhGzFG4Q4g+oE84RnRR1FBUSRw60FCUNDgruB8YE5AebApMFWf7xAHEBCwPo+LX0tvr/8iz4fvK+8cPuCfih8UvscfSo5Sv3au/0563xl+ga6+X2G+5a68D20+rd+1HyfO/m9zH4xPeE9Db8S/K8/fH5V/npBYz5yPH9CpT5DfOr/5z8Xvyv+tX84Pjo/17+fPoD+cT7sfsT/lD8TAD1CvIDMARkB9oD2wqfC2QLxwxjEVQQ1BQSGm0WWRz1GUIYmRx+FIYUuh8GGLAbZhvZFukXVhS4E4MPbw5oA2gLNQk0/YsELv5w/pEAHvfF9Tf11+5b8jft2exJ7pXs3u4I6ljqpO1H59Tt5Oq85oztfuYO8fXpPPXK9EbwefWR8gv6afF59Sv34vmq9TL6ivlt/1H7jfm1ALD2fvyg9PT22/x79wj7mvyS9Zr7Ifk39QL3q/MZAFcFQv7Z/EECZv+WB7QIEAQOCVcKChTUE+sQVBRPHBYh5xw+GZQXORpEIUMgxh0TH2AdWSQQHbATsRf0EGcSSg8UB40H5gTPBIIEYQA89zz4Zvlm8KHuiuz8693vSu0F6BXuSeY55KTudeRD5ErpVecn7Q/seOn88CbzePBl8Or0TO8v9+32O/XR+0H1y/5E/LL3lPn0+HL+rfi8+A77f/he+Kj4pPmY9kX6I/WB85z0SvEi8eb9lANH+zT9nPyhA4YGVwLtA6MIjA7JEfQRPBO3GcQltyYNIFgdaR4mIr0jVCPrImUnbCjjJ0YiHxusHR8diBTJD2UJTAaeB3IFHQODAP34FfbT89jtEunW5jXt4OPk5TPl4eEH5+3k5OOr4kLhZN8+5vfkF+iW7YntvO937bDxXPJo84T4/Pb5+L34tfoJ+xwA0Pym/kX9OfhH/dT6TPnj+hn6Kvcj+lf04PY29dbva/Nt8Xvt7/mW/PP6MP7q+q8D1AUzACMFHAssDZkVmhPAFJohKyiLKD0o/CDwI/0oECSxKMwnwCzpLuMoySTKI+ke/RkIGhIOgwmWB1QF9AHhALL81PYR9GXsMuc34zTihOOo45Legt/M3wzgp+E13kHeieAu4mviRuJy6Z/t8u609EzxWfHi9EP0Y/Z6/JT8Zv2T/lv/hf9X/fb+1fzw/rn9QPvk+aD2JPmJ+FD1hfb48ofxtPD77VrvZew29OD8tvsrATz97PkCB+ML8gTQDfQSFg+qIJoeTCFmMUArey57L0Am/SPFKuUs0DFQMFkohS2eKK4jFiDEF3ERQQ5DCUcAs/wv+4r8hfph9E/qAONW4F3gftzV3F3cE9k73jjcrtsE3ozfwt6C4PvcFt/v5PHnc++d8030QfXE9pf1ZvgQ/XL/x/0+ANP/mgDZAjMDWwLE/8j/rP43+2f22Pj09uv0hfaw8szwtu+l7cztYuzm6Qr0ZPx4+CT/Yv7h/PEJdQxICNcM9xfIGlQcBCN6KWEvPzduMs4sxC4eKtgqxDH+LvovvzEgJ2srhiUCGz8aNxBPCPYFCf1h9+H5j/Up9JbyTud13p3c1Nu322rY09V92FXcw9yT2unabd144SfgKd/R4LrjdOpI8GX2xPe09vL4f/t7+9P9K/4iAVwFTQUqAaj/OAKnA8cC6P4l/DD6wfmt9hf0m/IT9G3y7e927cHr3Ot47O7pTu9I+yf9AQLh/4j6WQc+EW4PERCxEdUZPSVmKN4nmi9kMxY7xjfiKdElySlmM5U0Mi9xJ/oplCqPJp0b2g5XEZAN6QFy+if0bPKC+cP16Oke5+Tf7d0s3onWwtWE2efZCtzG2sfY0N3X4hzjw+EF30ninuuQ65fv9/HZ9Tz9tPtd+6r7N/38AbwChwDUAagBNgNpBHcAVP46/iv/h/sw+az2+/EC8+XvZvCP8LPtTu5M6yjrG+kL7dj5APxJAQ0AIfooB7oNpw0XFO8QiBcxJKYh7SiPMHcyNzntM+cs1CpsJIssfjTULh8r9CX/I7UmmB5KEtMOAAmBBFb+mPGl8lL30fPE8GLpieAj34zeW9uT2zDbVdsa3Uzdqt8h4jvjneRj5HPjr+RS6ALrHfH69M70+Pha+Tj69/wU/Zn+x/7S/Uv/mAHpA+EB0f6P/Q/8+P4B/Fz3nfZG9LP0+PHa7RHuzO7n8BzyWO3j6Z7oIvOW/z//j/9V/0IChgtMEekM5w4JGWQd4CDXIvEjFC0VOu83qC3vJ1Yl5SvUKz8mcygjJyYoYiOAGMUXaxWVDmEIAP4z9mn2OfRu9XT0De3T7NLo4uIe40zer9xF4x/hpN3K4L7g3+ZC7UrpeuiM6LLmyurc7RbtnvLU9gH5O/wC+8P5GPyh/lX9Evr++FP7T/4XAMr+Qf76/uX85Pmm+Nf1YfNr9Onweu+u8RDxfPFB8Q/ube3k7Ovvpfm8AMkAbf4AAE0FZg+CEvcLFw60FywePSMiIUAhTjClNgUsYyY8H/UfCi2KKbQhyiKKIt4iSiDUFOMPbxCmCn8DZv329I302Pog+eHzl++z6a7p8uma44nhQeJd5B3pwue95N3oo+v76+nrseo47G7r4usL8WrxPPXo+cb3p/gS+Uf3fff09zv6wf3c/Y/7mPoF+hv9Rv+B++X4B/d29VP2LfRl8oT06PI+86Pzb/Fy84XxafAR8mj0bvspAXoDCgJhBRgIUQvuEAQPPBJ0Ey8VKB8/IFYhDSdMKOgpsijPHR4aBiENI+wiBx8eGYIbKByLGOYSjAsDCwQJugGX+I/1qPlN/Bv6y/Ml73bvF/B/7ATpVudg6czrWeht56fsWe+m8V7wu+u77qPw4+2R7ifwRfI99kL1p/SS93r30Pgd+pz25vZe+eD41fnf+rH6ivsr/rf8NPgl9i71gvek+OT1nPaa9lb1tfc+9tTzvfWR9Vry8fK++c/+7gKKA+YALgcHC68JdwwLC7gNVxRVFO8V6BzjH8Ai9yXSH40dqhypGO8afx6OHUIcpBdoF7gaghYGEkwN9AU/BdAEW/uz+Fv6RPui/Db4QvPe8AjvOvKq76nn+Oe46o3tI/LK8NvvQfH38IHyq/A+7I3tbfEC8jrzwfJU8+v4T/xT+Y32ufTJ9MH3Ifeg9yz6cfux/Oj8zvwD/Xf62vaK+AL5sPdc+Sr4WPgu+3v5NPnc+bT24feg95n1fvos/mgAKwROBDcE8wZaCWcKdwvSCxYOFBBZEpkXjRnZGxQe8Bu+GrcZkhbPF44ZTxgLGf8WAxRiFJ4S8Q//DrwKswUMBK//Qvtz/ZD/Z/w2+Qr3GfQF9aH2xfI88JfwcPGn8YDw1e9T8bbyO/K88tPwO+/38QD1OvWg9NTy0fCd89H0o/Tk9aP11/in+q73W/gG+ZL5kv1E/Hf3PPcT+lH+7/ub93n6Av2P+3/5c/ke+cT46/kO+sr4AvrL+UX27/k6ADYAegEsAjACGgYNCEsH0wg9CgYNPg/FDPgP7hYGGP4XTBhvFrYXbxf5E+wSOhS3FWQV6hHNDzQRsBFqD8kKnAccBnIDsgFmABz9nPzU/c37avor+in3zPSN9Sr1avOc8ubxvvNA9fr0h/NF8l70nvV089DxD/JH9FT2zvMX81T1+/Vi9zX5mvZc92z7Nvt8+pX3evY1+6P+Xf1H/OX6xfm3/RH8jvfA+t/6wfmn+zf46/ef+xH6EPro+rD5Avrm+fz5u/6SAgQDoALkAsUEMAe+CEkI+AiVCpwMjQ+cEOIQoxKyFdsWHhUDE+wPOxBjE+4RIxD5EHMPPhD0EHMMewr/CGkGdAV8Avb/wf9Z/z3/gv+2/f37v/rQ+cP5Wvi29m31CPbx9v32b/fn9d30tPab9sj0M/Qu86vzE/Y59gv3MPh+9gD2FPbB9lb5nvgC94H4nvpz+sn6ePyu+x38x/vQ+Mz5m/oI+Qv6EftJ+7X7APrj9975q/tp+vb4hPdH9zH5OvuX+0v+7QC8ALICSQOoAQUEvwXgBIQI1Ak0CcoMgw2CDxoThhLBEZsR5g4qD4kQUA71D84RjQ5SDsYOkwxkDfQKSAjAB9oETgOdAk0BfQEsAuwBRQH2/vX89vwz/EX7CvtH+Tv5nfl0+LD5dvou+kb6hvjo9oP2tfVa9uD3Ifd693H3nPdT+ZX52Pnl+bH4xffE+Fb4HvlB+ur5q/sI/a37s/pf+hL5Y/p5+vr3mPhV+fX4Evss++X52vpy+pf4mffb9+j4r/n1+n78iv2p/qL/ZwApAPD//gE+BFwEPAW/BoIIbArqCogMBg6BDpkPwg75DHkOLw9zDhYQ/w9LDqoN/gtaCzgMtgoeCX4IgAdRBy0GwwQsBa8EMAPQAcj/t/6s/tv+eP/+/mH+u/1j/BP86PuE+p35sfkf+ev4cfnk+L74oPkk+nn6O/m394z4lfhB+KT5YfmI+XH63Pll+Sr54vlf+tz5yfnI+EP4O/nR+P33Ivgy+Nf4mPhd90D4Cvml+Mf5Avmi96j5B/o3+pr7UPun+8L9cf7A/hABEgEWAYYCDgMfBAUEqQWFBy0I0ggACUQK8AoiDC0N5AzKC/MLPQxuDIsMRwt/DFsMAAvDCw4KxAhqCcwHSwZPBiEFfQT2BIkDyQInAgABCQLdAOv+bf8G/9v9Sv1J/UT9GP2l/T/9Gvz3+077+PpJ+9D6dPrl+WP53fmw+YL5Z/p8+vr5HPkj+Ij4MPk4+fL4/Ph3+Rv5m/jY+A/53vgt+Vv5jvgK+Fj4Jvl++Xj5ufm3+Zr5R/ry+af5pPn8+ZT7HPyj/Pv9GP9YAP0BgwKPAhEDiQPXBHwGrgZ7ByoJtQq8C1kMbAy1C90LGgxGC14KZAqlCl0LxAv/C8sKFgmaCUMJyQclBmQFbAWYBFIE2gRtA5wCCAOGAfQAZgCa/53/5P7y/Wz+kv6o/fX9nvxT/Fz9EfwL/Kb7XPsW/Pf7t/yT+0f6T/uj+iv6P/qH+PT4cvql+dL52/me+Ov4Wfg29/v3qfcZ9yr4Svh0+Pb47viw+fD6+Pq++rL6k/qT++H8wP31/UX+sv4y/7L/0f8WADcAEwBKABQAlv+Y/wMAhgHlAWEBHgLNApMDtgQTBUYFAgZRBhoHUAcmB3UIgAlnCkULQwuHC0cMGwzECykLaArGCe4IdQjBCI8I5QhiCZ0HkAZIBVADBgOrAR0ANgAJ/7r+Sf+D/tb+xv4U/b/8rfuE+Uz5aPlv+fv5Uvo/+mT66PlD+R/5rPfq9ub2ifau9sb2/fbn93z5nvnB+Hf49PcI+Bj5Avmt+Pv5h/rJ+n37Gvtf+yv8/PvS+4T8TvzR/Gr9sPzX/TH+Pf2I/ej9q/2G/kn/O/8KAAIA9P/PAHAByQFoAn8D4QSWBvwG5QamB/QIkQkoCS0JxglhCo0KWgqZCg0MmQygC34KyAk+Ca0I4gfOBuYGewccByAGUwUMBQgFCgQUA9IB5P/2/wAAVP9F/yz///4P/1/+sP0t/U787vuY+wr7V/qg+gv73vr7+o/6rfk9+jX6MfmH+J/34fcM+PX3dPj0+Dr5Tvkt+ZP4WviO+Jr4uvgj+Tr5mPl5+oP7CfyE++z7kfyg/Bb9Mv0//VP+Hv9p/6b/ZP+w/0gAegC9ALoAhAAvAZMBLwG8AbkB5wGkA98DdQR5BUIF2gXKBucGDgdyBy4HGAi+COEI9wkNClEKRAvRCrUJlgmPCAUIbQhLB3sGNwfpBs4G1QbXBMkEAASoATkBowCY/7H/yv7Z/Sb+aP1q/Tj9Bfx8+736xPkH+lj5ovhM+RD5Uvn6+AX4l/i/+Jf40fic+HP4CfjC9zX47vjS+Kr4Ifnr+bn6e/qH+gv7wvti/P37e/vO+678wf1U/n7+u/7i/kP/WP/x/lv/0/+U/9D/jP8i/xcA9gBWAVEBBgE9AX0B9wGkAvgCZwNlBMMElAQSBeoFogbdBi4HQQfvBnEH2wcACGkINAghCPgHmwcACOQHaQdCB8IG4wXYBYIFwwSuBB4EoAOGA7ECwwG4ATUBiwDb/6P+If5U/rj9av08/WP8xfwj/Cr7LPsh+rX5cPnY+KX4kvj7+Iv5gvlc+XT54vik+Jr4hvgP+XH5S/nU+b76APvj+9v7SfvI+y/77vqh+/j7t/zi/K/89fzQ/AH9W/3b/Av9c/0//Yv9oP0T/rD+5/4V/xf/SP/W//sA8AF2AgkD/wPTBIcFvAUeBvkGfAc4CM0IDgnPCcYKfwpYCiQK1wnrCZ0JDwm8CNUIjgiECCgIWQe8BrEF0wSUBLsDxAKLAvkBxAGvAbYALQAqAH//ov5F/qP9Ov3N/Ar8Dfwg/Nn71fuN+5b6Nvo3+tT52PmU+Sv5bvk0+RL5XflV+fv5bvob+iX69PnP+W36ifq/+mT7TPs9+8X7s/sL/Pn8f/yj/P38evzy/Mf8tvzO/T7+XP6P/of+fv4m/5f/hP9A/7b/hADQAKcBUQIRAxkEVgSOBM4EngQRBX0FhQUMBq4GoAZZB+gHywfJBycHuwaGBpcGPwYlBgsGvwXMBVcFcwQkBKEDSwNjAx4CGwHzACIB8wDvAI0A3/+l//f+ev4x/g7+t/2N/U/9//yH/H78u/zO/Kr8z/s0++z6D/tl+6j7ifvS+/z7tfuS+1P7kPtE/Kf8ZPyo/A/9Tf01/pz+pf7U/nz+bf7O/pX+rP6g//P/DAAVALH/qf+a/+z/3/8z/5//hf+o/0UA4P88AL8AAwHKAFUAZQCSAF0BRwH2ADABJgFgAaIBgAFtAaIBDgJeAs0BuAGcAegBwwJZAh0CbQJuAgIDCwM9AlcC8wF4AWcBxgCcAL8ArwDMAFYA1f9q/+n+kv6t/bL9kP1A/R3+PP60/q7/n//x/0MALAC1AM0ABQFCAjEChQLDA9cDjQRKBSEFigWfBSIF1AQ6BFsEawSjBMIEgQQUBIIDQANUA+ACWgFQAaQAvP/U/xP//P5X/yH/zP4H/tr8ovwf/dT8Tvwi/KH71Psx/OP77Pvs+9r71/vO+3n7tvvg+3/8rPwr/IL8jfy+/Of8e/zi+0/8qPxR/LX79vui/Lv80Pxe/PP7xPuY+/f7HPyK+/v74Pxu/fP9W/5p/s7+of/r/8H/vf8VAB4BEwIjApkCZANMA+MD7gPYAhEDyAJcAwUERQPcAwYFzgV3BlUGlAWRBWwF9wQHBe0ENQXnBVAGHQYpBkcGAQaJBSMFogTVA68DhQMuBIYE5QPuA1kDjAKEAUwACQANAMD/V/8x/7H++f7X/uz9j/2m/OL7dPvL+uP6pPvh+9f73vux+wP7kfpO+gn6Ivov+jT6hfou+y37r/tT/OL7OfzL+4j7lPuk+6b8TP0k/ob+UP+T/1j/jv/A/3n/X/8IADYAnwBdARACpQIVA8oCewIdAh0CVgIGAsQBAgK4AskDLgQfBAcEpQO4A7IDggMDA7gCkgIAA3YDAgMbAzwDIgNuA/0CIgLCAfsA2AAQAWsAOwAtANj/6gB5AMX+l/6U/VL9T/6Y/af8tPyZ/Pz8Zf0G/b38yvxa/Of7afs8+6H7zPyb/Sz9i/0c/ez8Lv1U/ST+O/42/r7+Kv9Q/10APAAWAG0Arf8SABcBcQGMAkwDOgMSBMoDMQMmA1AD8wOQBBUF4wRUBfgF9AUDBhkGqwU5BTsFgQR5BM8EWwUIBpoF+AQ0BM8DXgPCAkYCEQKtAagBQwEmANf/H//i/iH/Nv5I/c78R/yl/Hv8kfux+xn7sfrT+gT63/kc+of5KPpo+mz52Pmd+Y/5c/qq+dT4X/lR+QX6Wvo8+uH6Y/q1+mn7IPs5+0j7+fqH+zP8hvyF/Qr+YP7r/uH+kP7h/n//BADRAdYCqQJHA64DMATaBZoFZQVUBvAF3wYMCOcHcggfCbcIFwkCCc0H/QcvCLEI5AgLCGkH7AblBvgGiAaKBdME4QOiAxQDCQICAtoBfQEcAbX/7/4E/3D+bv5s/jX9b/y4+177jPsY+3D6u/lw+er49fdv9/P3NfhF+O73+PYD90X3k/c7+B74GPi+96v3Nfh9+Dj4jvnw+kD7hPsV+2n7o/y2/Sr+O/4i/tD+Ef86ANUApwCqAfwBSAKhAscBSwKxAzUEAwVmBWgF6wVpBkAHNQjYCFYIiQc9CEMIfAi6CZQJswqHCzIKlArQCcYIYQl7CMAH1AcHBiwG6AbUBa8FugR2A44C8wC4/w7/kP7t/qL+Mv66/d/8nPwP/Af7Xfqc+Wn5lPmo+Mf3S/eE99L3bPcF91X2cvW09WH1CfVY9Uj1i/Z099j2Evfz9qX2X/gs+Cn4mPnn+Yn6FftD+4X8+P2n/qH/8v6t/gf/8P6k/4kAuQCDAXwBawHPAtwCigPKBGMFegbwBlcGxweKCI8JOgtMC1sMKgwvDFkN4g0NDo8ONA49DhsPAA9BDuMNHQ0rDPoLJQpNCDYH8wWhBREFrgJZASwA6/68/i/9E/tQ+lD5D/mZ+S74hfd49932zvZ29uP0L/Tz82bz3PPb85Hzy/PG9AT10PVi9ab0evX+9UT1LPWG9LT0c/gs+Vj60fq++A/6o/sA+rz5svnf+Cr7Kvyv+uL7v/v9/EP/gvy4+CD4CfiF/DIBmwJ6BY4EeATHBhII4QgLCusJTg17EUoU1RbhGYkdqiAwIDEcoRjBFrYX8BgbGsAZkBjLFogU7A8LC4UF0QBL/uj7yvjW9oD0s/NK9LTx2u646z/pc+nf6hPr1Oym7ufwPPPe8yfzF/O78Ufyg/R39RD2rfbd99f51fsE+rL4zPcf9lr2OPdk9tb4sfic97j5EfeH9K3yivDz8s/ycvGw79XtN++m7i3whfAz7NPrg+kB6sj4TAKjDuIWsRDMEIoTnhbLHgskcyXqL9c2KjjGOuA55TrvPkw4MS23JHgbXhpkHDgbehmTE8gH/P1M8mPoSOIR32zfhN923ODZf9pQ3Wzgod8F3w/fX+IO6bbvtPiTAIMDnAZuBVUEEQZ3B7kKKw++DusNSgyQCMwGEQNc/nn7Hfg99Dvyfe8375DuXO7t6v7kNuA33bbfWOXl5QXmvuUn5DPl+eOa4dHih+WR52rtces26zLqQO9oA4gWYCP6JLEdXx8cJ20s+jIGNAA6+kafSeNJ8kb0QYFGb0PgNjwpnBeLDn8Tsw+HDhQJV/ne8O7kjNSaz/3JR8vb0kjPY86gznTRxNq13y/fm+KN5Y3wzv0BB7oRPhcYGjkbEhc5FUcWZRgZHZUcfxd6EXIM4wayAVH5++/C6o7lS+J73yjfvd/w4VHfrtmR09jQoNOV2+LiFeQn55blxeh06N7opejZ6wHvvvPb9aT1GPRP8HADuxQOLYM0dyeVJOUkvyzyOIM3uzo+RXJMclF6TXBBEEDcPhk5liwrFLcH1wOmCIcKFAIU9PjlkNhR0JPIqMGSw2jJFNBo1YPPt8521RTf8ufR60ntoPeeCSoYpyTLJYwj/SEDIRwgWR3mGuQa2h3/HecUnweQ+dnvJuvq5JrbB9SY0MHSTtjh16nU5dIW0vbTIdJ90XnW1uFp7aHxFPL+73zwqfEY9IbztPeS+SH+TP3W+yzzm/wLFbQp1D6JLdMeIyBmJSk04TkMM31AV0oaSS1J2T5lOFM8kTHLInwV+gA8/AsCIwSQArz26d6j05LMhMOOxPXGmMyb1yDXmdSZ2NHcIuS+7QvzafxjB0QSKiHMK6Yx5y3hJvYf9hsiG40awxk7Fz4TkQiA/e/wN+Pp2a3TL9Ck0fDO08vazGLQFNbp2I7UgNFs1aDbUebo7RjyPfa1+5P8L/7K+Mj3CPhE/AwATwI9/m/61PL78Y8O0iARON8yzxfLGHsfzCfoPIsygzfKSblCSUhYQmEzxTcPM6kglBc0AIP0JgE2AxIC2ffL3c3RF84FxZDGbcsvzsvb6d4120/f3eDv5zj2KfyPAeoJRBUdJ840lTTrLOciMhxbGQcXLxWMErwPTgqIAPnygOWk2TfU79LBzgrL7shayQbSndTN1wHZ+dla3OncZ91X5kfzw/4ABLv/T/y0+t/5OPvb/ff9rwCF/nz9T/U79E7pjQCeHJIxtzwfIvIShhtTJ3g0pj7lNSZBsEiWRJ9BZT1iMPMysiasEVcCdPH88iYAjQLa9u/lZNEQyuLHxMbAy73SUtj64AziZ+RY5mLrC/a3ALsHMww1Fg4m/DMYOOIwAyNZGzoUNhCLDw0MjAiEBH76ae/55GPWrtDby9zJTsgAx9/Jc9IU23XeTd132lbbEt024yfov/KM/F4DgAJ6AxT/cv4l/P36Avx1/WH74ftU9p3xietk6oYRCiYhQyE18hXjGBYfijJCQmU5vD/fSldG0UegPI80kTSdKssY4waG70fu5vOK+6b+beto16LLQsKGxxTL9Mwf2Znf1+Nv5/LmnO3t+SMBYwoSEOMXmiasMMk4NjhPLHQgoBLEDI8MyQmRBzwBSPlU78DhXtat0HTL0cppyZDJwc7Jz1DUvNr54HDmIObN4IXifeiL8mj+UASnBFIDsf7O/QD78/lQ+jD6Pv3/+D/2perC51zeMPevF1QyZUD+IQ8RcRl8JUQ7JkGINWlIMEgwR9hFuzhyNs4z7SAjDtL6Wui87lj6K/8S+tniW838yNXHJMrRzanTUtyJ5lXnGOb96ln0wwBTC4MNcg8sG6sq0ji1O8kv/R8gF2IPnAvRCDYDrQBi/FHxCuYz2bvOb808zaLN2cqTx4/KttXo3pTjLuK84F3kxOet6tLvHPkgAmcI6gT2AOf+Ev3F+Wn8vfn3+4/3X/T87xXrW+Sv318EHSQ6QY4/dheWEp4h3SxAR5w8rjsfTWdHYEdfRAs16jM6LHkUvQUV8fviK+8T/SD9bfcf1+jI48p2yQbOB9JY1HLkmex+6THvfu8c+OgFhgwDE20aXyAEL2845DZvKoAZNBBsDEoJUwLk+9X2nfVm7M7hP9dFzYLKEsnyyGLMh84o0YHZ8N4G5CbmE+dp6k/u+O5J8Fr14P4HBusIYQQL/hf5Q/RL9l33wfhH9t7zMOn85DjakuaOD3svJ0WhNI8T6RUkJCUzHUd1Pk9DYUxIRC9FskJpOGcz2yWbDoT9Cur54qzyUP14/V3sQNXSy8fJ+crQzm/XguAT5nPpP+ol8fT34vsMBfQMuhLHGFcjUS6HOFs0GCQHGIUNNwaeBWYBlQD1/Unyb+Xo3IjUXtAdzsjJcct6y0vMY9Im26/im+gS6S/oPeiD6EPr4fZPAk0IJQeq/fv6Z/kW+CX34/hM+YP4A/Mm7gHn0eZO3M7uaxe7MBtLOSycFdYaZiPBOq9EjjvrRRZGJ0RhR3E+VDpgLS4gqAq7+BrkD+Z68fgB/P8b6ljW5MqtyeDNVNOO1vPiuuSB7HXw6/Ko9TL8JgLQDg4TlReqJMYuWTeMMhohrhM+DGYCOATy//H7aPqs7pniet8O1XPSsc8ayjbNXc+oznDV1dtg4QvpgOdZ58Xpu+qX7wH4If7kA2cC1/wz+pf6yvdE+TX4Hvdo9tbweOzT5mPjqNtU8iUaHDhAS/gqRBMbGy4mDj6PQZk5skRCSJ1F+kI7O7s4HjC2HgcHEPYL5yDpRfVCAXYBNuyw00LLLcpQ0N/TgdVz5ADt5++27xrw9vb1AvMEUwsZExEbqyk+MnYzwjAsITUSSQo1A18ALP+B+RH5V/Rq5r7d4dJoz8vPxcw+yxLO19MA3hbkx+RJ43DkFeny7JvsBu1A82f97QZXBb/+ePq59q70YvXT8nH0zPIC8Wbu3uaU4TjYqvNdHDk6WUhWJVgUWR0mLNI/I0AGO9tEyEhsRQdBUTpaOHsuMx5XBsn0PeUL6s7zngIHATzqrNUnzNfLw9Lx02fVWOX+68fxve/M7+30KwFtA0ILug+OGFgk3S5TMrYuQB8WDigGi//DARH8t/eM9UPyCeku4T3Txc5QzVPL+MzX0W7UoNuW4urkCetR6TznIefI6+3vQvmk/T4BDAOHAR37MvZL7xrux/Lg8l/xCPBq6rLm1eT+2DP3YxwaOp9JTCjHEWkeuytwP9pG8TvxQplMW0IsQtI/XDKlMSkgSgWe+a/nSOab+c8E1QGy8ZzVd8rr0KrQd9c12sfgAOyN8APvafE884X7KwVICqYPMRaJH7ottzPGLcEfDw2IA5wAQgDc/4H8pfXD8ILovuA22bzSXtBp0nXRzNIz1OnWuuB750XtivBW7dTo8+i966X3sP5hANr9L/wO+6j3FPIu7wL0HPbz9aDxEOvW4wXi09VM+I8aCjmnR/kjqhSSG58lIDlVQNY4LkUGRjBCa0C2PmM0zTL1HywIg/nr55HsX/1/Bm8C6vP12lvSgs5EzurVLt7D4rPrAe1Z7UjyAPPc+LICiAbDCYkTMhuKK0wwZCjBHOUQbQbYArP9Xvrh/Jf4o/M37LHgmtne1S/RT9Ux0yLSmtTO1/TgSOl+6RLrmOzz6qfsZuhb6lv1Zf4KAff/JPbf80/yEfF59Rz1MfJZ8C/qPuQi4qnY8/f2G1A6MkPyHUIPWhiLJ+c7wTktOY9HaUbmRJY/AD5iP2w2TSG3Dhz92e929Pb+bAy/CoXwKtvS0qjPFNXE01za+OfD63TpUOg76vrzqfpI/JQBiQcXESkdWyg3LgMrtxtvDx4GtwJaAhQALv9SAYX3/us24J/Vedm72WnXUNQh0UnSYdt64VnnMutC6vvnMuY35Brp/vK8/GcDggDX+Z7whO7G7Rz0Avgk9TLwH+6c6kTpweMA3E3yORUKL3I7WiSgDXgXOSI3MQA8ZDWbOLtHJEHtQA5BTzYwN3ss8A79AE34QffECEUN3AWb/AXn59Mg1d3Shdn639jeeeVJ7JToJemu7AvyLvwU/vf8BwmWGG0j8SiGICsYKxGECPYBTQEOAdoBOf9C91LuIOY03/vbudvb2QrYfdaI2OLcVeL841bjYeKb5BDlR+h+6u3u+/gz/tv+Afsg9Uvx7/H470/1gPQk9cjyNPD16MbpJtyQ8FAR+CvaQesj4Q8YFDQh7TPlOikwjULcRAFG6z76O4A+4DtyKuQUXQQ5/BL9ZQHcD/AOzAIw6tzau9T52xrZYd7/4mToJ+pA53LlGO2D8u/1Hfty/bUJkxRRHuYj6yPSGYATlgj5A/8D6ADKA4YCA/xV9ZPr7+Lo4PfaNNlJ3DDbaN+F313cG+Ej5bbn9e2Y6tTnKer/667z8/rW+Yr4hvgZ8tjv+uvm7gv21PnF9Grvw+VR4kfcNOMQBe0edTOpJBUKEAzmGKMnhjS8LKIyD0AOP19AWz0VOUw7mjPmH24N8P/P/2MOJRhOFBUIUPOr5FDf6tou33TjfOXl6Fzm4uYX58ToK+xU8sj0pfhk/d4HmBdrHyQf0xboCoYEEwS+Bb4Kmgm1BA3/6Pde7wvqCOIN4HbgOt5t3lLd/d6K4a3k3OYC56fkpOKI4j/ouO+k9wn65fmO86bxo/Ea8mP0BvKr8sfy6PFq7/bsp+ZM58/eiPUhE0ksVjNKF/sG9hIVJpQxoC8UKS851EZBRjs9KT0OO08+ACyYFTwJygLMCWIUFBmwE7b+Fuh24QDgMuQs4D3d7+Ol6t/neOXW4l3pkPS3833zEfgO//wP+RqRHQMdZhHQBqMFgwXZCFIIrwBx/778j/Vh8BrpsObu6OPh3d2j3E3dZeNQ5azlLus16nroFeV55GvrDPMe9nX0lvE68J7x9PDU8QDxK/NK87HvOe217GfoH+qq4KnlbgNLHI4tGCQBByYKWRzSKKgyYCjbKxM/60U6QK493jjAPfo6eSZ5EVcJ4Qh9F9IfLBl1DH32DOpf5iPkluD63wbh6ufh51Xi6N5J5YntyPLg7T7qlPQdBkcUehcNExIPQA+8Ci4GsgNjBsoIlQah/nP4/vMw8fzuFOwz6VLjVd1y3PDh5Oaq6SrnMegS6nXpe+Tt4iroB/Lm9M/wMuso68TvVfFi8YbvdO9O7mXtm+wc7mTq6ub24THy+Q1VIgAmyRNgBrQSbyPMLfQsQSdLNAVFr0fTPzo7QzvCQiY5sR+KC90JiRXkIxghaxH3A9r4xu8s6dHhROBS537ozOVv4cLcZeA96Tvqsuxu6k7qCfU/BMoN+BJPDRcGage9BtIEQgRfBGQIWAyMAwv5EfEF7yzyjPEj6wnoKufx6Brqlugs6BLrEezD6RDngeRG6XLvfvSq8SrusegC6Jvptejl59jr5u0d8aPv2epZ6JbogOL64r326Ao/IxQetAmmBb4UliUiMaAksyUEOAVFnEatPr04jESBSZw3BSOBEOMWnSbGKcIhsxe8BmAC3/X96VPppuh96W3s1+Gb3m7hVOAW5/fnSuNd5m7p4uzM/NYCngcqCaQAHv6sAff/swIWAx8CHQcYBVn7gvW68aLzDvZw7v/n9OYr6azsJ+xC6ent6fCU8PLpceRF5gDw5PWg9Gzvi+mS6HboguZ36CHt8+3P7orovOUJ5iTlut+Q6MP57w9pG/sMnQHyB2EaLyoIKV0f6igAOD1Bez4xOcc/h0pbRsAyfR+VGg8lfCwAKfYg5RikEEIH1fmd8UXzyPOs8Q/pn9/l397l5ei152Hic98l5D7ow+yf8yX6JwD0AL35qPdV+fn8rgBD/+j9zf78/T/7Xfme9Q70JfHi7WDup+/n8ALyLvGu8jH0IfGV7iPr5+z48ErycvGu8HjwxPFb76TokuUb5XPoFOyU6dbol+1n713y7+sL57/y8QMbEPsPaQVABeEWbCJHI1wdGhsZKaE1LTEILaotPTeoPpkzXSMOHQUhQCfbJDIbZRjKGDcVVgwKACv7Kv+y/VD4me9Z68jvBPIp8JHtnOz17vPvfOyD66vvmPZg+2H5PvU69GX10PnY+6j7ufuK+Q34c/cv9sH2oviW+Kv4Bvfq8zn11/U59p737/XF9Wf18fKD8671efhR+VD25/Dl7bvtGO/K8LvvOe5j7WrtWu4x7Wzr9elY6v3tIvB784P2zvkb/TgAZgJrBbgIgggqCyoONBLHGLUaxxyXH+gfzyE/IZUfbyCpIdIiNSRrIvMeIR0XG+wZQhh/E98PUQ4KDKQJbAWRAS0CIwLhAPD9jPqX+1L89fuO+sv4jPqY+wP7Q/lQ9y34jvlc+hT6n/n5+FD4pvbZ8+/zovQn9vf3f/Z/9j325PXb9uz1sfR086Lx1/Fy8wP1y/Xx9CLzPfFl72btluzT7FXuiO/e7gDta+ph6MbnI+dB6LvoxugN6vPrn+8n8yD13PVZ+GT7rf1pACkCowZIDLkOCBGzEZIUOhhdGjIb/BoZHBAdyx5eHnIeAB8pHsoeqxs/GS0Y2hWFFtQUSxMaEi8Qkg+bDRENbwuGCqAJSQY+Bi0FUAaGB+UFiwVQA7YBxP+Q/TH99/zV/f38e/uR+vX4hPkO+Sn4RPc99dP02fWl9+v4k/h095n1e/Se8jDx1fCL8L3wLvDK7lHtX+zv6t/pdOk+6Sfp6Ogj6CPoEehe6GnpxerS7G7u1e8H8W3yxvN29X/3+vmm/L7+pQFDBAAGsQWsA+IDMQY4Cd0JywgDCL0I3AvLDOkNPg9sD5wRFhIiE04VoRYmGSgamBuiG1Ebdhu+GkMcPxyZHAYcUxoqGVkXSRe+FZsTjBG/DkIObQxrCQYH0wPsAYX/Pvx9+XP3UPbz9IDzZfET8J7vxu5I7yLvuu5F7vLs4OsP66bqberI6i/r2eou6rfoJufO5tPmVOfl5/rnwui36tjtMfFi86XzY/P286300fWH9qT3i/qP/Wr/4v8h/5X+1f0t/Ev7jvzL/gUBzQHeAPQAOQCW/5f/ewASBNMHQgt6DTEP3RGKFHoX8xiUGWsatxuJHuoglSKRI1QjzSIHIU4ephzMG4QczxyzG/AYkhXeEmIQbg4qC8EHLASNAG/+Zfzh+lz6lflQ+QL4dPWR8r/w0fCQ8YHxp+9b7vTtfu5G70Pu1uzO66LpqueZ5aDkd+Zs6Jrpi+kM6QDqbexV7nbv9O/Z7/zwvvJR9IT2pPf695X4E/i496v3wveV+Cn5CPkQ+QX6zvqJ+5z7LPuK+8r7PvwM/Xv+gwCUA+EG7gjaCrgL7Q0sEo8VFRjXGKsZoRtmHQcfdCDPImoksCNZIeMerB5uIKEheSEDIA0dVxrhF1MV2BLbD0YMHgnJBn0EUANlAhwBTf+W+6b38vQt9CX1/PW69Vj0aPKW8J7ugexN64nrV+yX7MfraOql6QPpdecJ5mHlO+ZR6OzpDOtN7JntZe5g7ont2+1t7w3xj/Iw8/vza/V/9gv22/SF80bzBvV99oz3NPgi+GH4TPj194z4kvmJ+z/+TQEBBBsG2Qe+CXUMQg9OEj4U3RXdF9sZDBwdHh8g/CFlI1cjpyJ5It4iJyRsJFUjdiFuHjMcWxpoGNkWuhSkETgOjgoxB8oEEwNJAv0Amf6v+xr5PvgX+H/2//Pg8cLwrfAd8B7vtO7F7jjuWOwZ6WTmaeWK5RHm8ubx50vobegQ6OXnbeid6fPqBewp7Trul+8G8eHxbfKq8kLyafLr8uzzH/We9Xr1ovRw9ND0lfVy9q32/vZm93X4Z/oz/RABdARyB4wIOAkRDGQPexNwFt0XvBkPHHEeWSBvIjAkeCU7JgslxySFJVImdCcnJgQkriERH7QcEhptF0gUphEXDxsMLQm9BR4D+wEpAZ//afwv+dD3s/eL9xf2I/Rh8hjxuu9s7rztLO2k7DnrTOl350DmaeYn52/nLudu5iPmx+bq5/zoSumY6TXqCutJ7J7tae9H8UPyd/Lu8a7xdPKA80X0LvRM8+byu/MZ9VL2c/ag9e30WPSU9GH2ovn0/ewBkgTnBfIG9giiC1MPnBILFZYXexk3HE4fESKNJAclOCSXI6MjliQhJn8nuye2JpYjex90HEoaIRktF+0TxBAZDh8M0gkrB1MEqAFe/zb98/uI+qH54fif9072P/Sb8rDxEfHf7/7t2+uF6kPq6ela6VzoneeF52HntubP5Wbl5uVF5/zoKOpP62vsjO3b7h7v/+7J7orvK/Gi8njzvfPd87XzCvP98drxOvMf9aP2Rff19tX2pvYx97H4Y/sJ/zAClAT/BbcHCwrkDAIQkBIMFRQXCxlSG9UdaCF1JMwlvyWgJPIjiCSfJaEmviZUJQojuiA7HgwcuBkBFskSpQ/IDOUKiwhVBlwE/wGN/+X8d/pF+aP4Bfjb9kb01PG48P/vmO+77ojtjeyw67fqzOkh6Wnow+dA5gblRuVh5ubn4+hA6ezpxuo668rrquy27b3uBe/m7onvCfHO8s7z1fNR84/ypvHd8BHx9/FI84b07/RZ9br18/V69qb3XvqB/fgAYAP6BK8HmQr9DtgR5BNQFjoYhhtEHiAh9yM0Jp4nOSeRJjgmGyc/KAQoNSf1JK0iqCAOHr4bqhiWFY4SLw/3CzcI+ARZAnMAIP96/Vb7Hvnh9xX3Ofb79GPzn/In8o/xAvHn70Lvwe6e7dzr/+mk6Enof+ha6JbnreZf5u3mW+hu6VjqK+sB7BztWO5w7zfw/PCS8dfyB/Q19Gv0UvRU9Lj0mvQj9B302PTh9XX2qfbA9lf3b/hu+Xn6sPvc/QMBSwRnBiMIGQq6DDcQbRMuFmcYfRqoHLkeuCCTIikkECXaJFkktyNlI1cj4CKyIasf7RwhGl0Y9RbiFJkRig1/CZ0GhAS8AjoBeP/W/f/7tPme90H2jPUo9TD0l/Lp8ADwJ/BN8MDvUu7X7NbrKetx6oTpGelW6WHp0+gd6Pjn6+hd6qPrWexU7a7urO9T8LDwDPGp8YjySfPY8xr0//Pk8xT0C/Ty85PzjvNE9Pf0k/Xe9Zr2p/fS+ID55flH+wD+jwHFBDwHjwl/DJ4PfhKwFCoXUxpUHZMf5yC9IsMkMSZaJtokWyNLIxQk5iOfIqAgaB5zHIYZtRVHEmYPIw3+ChIIIgXvArcBdgCU/vv7evl8+Nf3Sff69U30gvNn8zHzMvL+8Nvvm+8f7yjuWe2v7LTsjuy069vq0ep96zzsKuzN6wrsLO3c7ljwjfFt8h/zhPMq867yvvKq8yb1cPb59jn3VPdy93X39/ac9nr2J/d4+LD5uPqP++X79/vv+4H80/1n/ywB8wJZBdEHcgrdDCMPSBFVE0UV6RbRGMoaKx2cH/0gOSFfIC8fsx76HXMdBR1pHDYb2xjkFeoSshBHDjULkweRBJUC2QDt/sj8XPus+vT5kvjG9jj1g/Tq8/Ty/vGz8brx4fG08QPxsfCu8H/wj+857hftBO1u7YftRe387P/se+3/7UDuf+767kfwqPG88vPzCPUA9o729/a091v4JPnB+fH5x/lN+fL4z/jy+CD5k/lR+gz7tvv4+9b76Pu9/NH9Jv83AWYDzgWSCK8KjQyHDscQ+hIBFZgWEhiAGsccKh+EIFAgvB9/HhAd0BsgG+oa9hokGqIXZBRqEeEOYwyoCZsGGwSOAksB0f/k/f37l/om+Tv3ZPVL9E/07/QP9Vb0bvOx8g/ylPET8bzwsvCr8JTwMPDu7xPwO/Bc8FrwYfBT8FvwZfDt8ATyDvMF9Mr0X/UD9sT2V/f89074bvjD+Gn5RvrX+i77DPsB+3j7kfvS+y78b/zf/Nr8ovxJ/Nv7C/zV/Mn9ov4e/8z/3gCwApYEUgZjCHsKsAxgDucPyxHYE74V8haXF1kYZhllGr0aRBphGUoYuxYDFYwTRxKIEVMQLw7bC5UJogeSBUsDLwGl/5f+kP02/Nj6D/pf+ZH4mPe99nT2S/b39VX1S/Rn89DyX/Il8gzy8fEc8k/yM/K08SfxIfHP8bTybvP182P0J/X29ZL24vYj91P3p/f+95T4efks+vj6LvtK+3X74ft//Pn8Fv3F/GX8TPzG/G/9S/7e/v/+sf5S/gL+2P2Q/X393f2t/r//vwDSAdUCJASnBRMHNwj4Cf8L2g2ODwYRbBLfE/sUORX2FLoUPxW9FaMVsBQ+E8sRlBBND7IN+gsjCn4IDAeGBQMEwwKIAXEAS/+6/Qb8evop+Sv4yPeV93H3Z/e69ij2oPVF9fz0Y/T488jzJfSJ9AH1KvVS9WP13/Sa9Ib0C/Xp9VX2bPZP9pD2VPf19y74ZPjv+LP5XPqs+gP7W/ul+xX8mfwe/bj9hP7M/rT+2f4M/5f/XQB3AGwAlACoAOsA5wCkAMcARQGXAZMBKAHfADYB0AFzAuwCnQPbBGsG3QeiCEUJIwo2C0AMQg3uDVsOug7RDuYODA/JD/cPXQ85DsUMlgu9Cg0K/winB+QFYQQGAwECHgEZAP3+/v33/BT8h/ur+iX6X/lX+Kn3cffE9yH4Rvgm+K/3W/e99tL1LfWp9Kv0/PRe9aX1Mva39nT2A/a89QX2Ffce+Jz42/hO+S767fpR+4f7a/tH+0D7efs5/In9V//JAFQBwwC3/7j+Z/4Q/93/sQBBAa0BLgJhAioCpAHAAMX/Dv+0/k//agA+AV0CUwPXAwMEjANuA8EDdQS2BS4H6wiSCpcLOgwfDG8LBwuNCq0KaQucC9ILKwz4C4ML0AqnCVII4gZ6BV8E2wMIBBYEWgO7ASQAP//B/m7+pv1o/Cz7hPpS+nX69/r7+k36QPnf9+z2pPYS95L3ePcP95L2lfa89gH3fffS97X3a/dV95v3g/iI+Yb69Pqx+pP6ifrd+kL74PvK/GT95/2H/e/8mfyL/Hj9x/7w/4UAsQCNAEYAUABrAAcBtwE2An0CSQJfAuoCOQO/A+oDSwMAA6oCpQIrA7gDdwS9BOcEMAXnBAYFNgUyBaEFtAXVBb4G/wdDCVYJgAi/BykHegcZCBYILwhvCHcIZwh9BzwGpwXjBMEDgAKFAOn+xP4z/8v/HgDF/g/8L/rh+Ez4cfgJ+JX3bfd190j4HfnK+OT34vaw9n/3kPjI+cf6UvtY+6D62vmk+RL6MvsN/NL7Wfts+8/7vPwT/X787/vB++z70vwZ/l7+4P7P/ysBHwLqAlsDzQJYAg0CawcdDgAM5QSd/V77ngQiDTwKiAM4AG0BFwU/BpAE2wLCAFz/kfyo/IoAAgN3BA4CjP1r/ff+vgDvAkICWwFkAFX9ov1OAMQDgwjTBcH+0vqn+5EAtwNPAsH/Yf00/ZoAbALAAe3/l/0M/bj9gP97ATIBGQD0/gP+8fzT/G0BIgQgAbX/x/1P/PL+mv/m/oMA0//5+7r6Wfxx/LH8TP30/O358ffz/Hr7cvj9/7MAKvmB+4j8bfs5ApsBH/+i/ST7kQBdAFIDbAi/AXz9b/+j/1f6/gRcEaQEjfj9/Yf/RAOZBzwCJw5SBvXu3vypC74L6gbN/V0BggmyBSYBrwWbBwYFRwLM/hIDfQ8dBp/+OgMl+1z+Lgt/Cq0Cevq8+ccIRwdT/QEDvACf/d0GJwKa+eT7sfyBBOwIkAII/O33rPkHAPv/Fv09/0r+PP4I+y/2ovrHAJoB/v269Yfzcvux/S7/VAL3+OT09vvt+Dz9Z/3r/IH/gfhA+uD7n/W2+gUNLgH39Dn41vXr+CYJdgfb/5n5wO+JA4YGE/xBBUYF6fC//pUMKAEK92H8iQySC9r/7vDx/o8EyARvEV/+U/z0BWP6h/4BCRcMXgdJ/bIAkAqfALQAHwIHBbwSGQfa+Wn/nwYTBPgFiAi4BnUFUv8h9m0BMQ/3DIIBI/2a/pT7SgMYCjcFcf0r/jr+3P8lBpAAbvuI/hP+GgMIAGP3Rv/r+T76rAkLAIL1UvVe/AgAxPcQ/usAB/YsAAz5tPSI+2b/fgiw+/Hyg/NYAfYCGwRu+obteP/yBvcBhvNM9pcGgQNg9gb69AOC9bD2lQkYBSj0dvYsBhQCoABGBf4D7/cn9f0MzxLN/tH9UAqN/Gj/AAnzDq8NpP2++YgFXgv1BRUHGgNTBFgFLAMjBfsFlfkE+u0LrRAWA+H1qPouAX4AEAfkBmj/pvqA9Cr9Zgdt/6D9YgjG/Kz4wfRL9HYK7wfj9rv7g/8s+gr6vPpkAEj/hwbm/N/x2/6X/C39VgFL+OICMAwj9kf7pfdj+FYGYAFi+qD+jQmm+S30TfiA/woEDgGy/g//z/cb9rkGRPrh7ncP7RaC+6LyP/Lf8EEPyhEdBJkGi/Lq9dYOCf/w98EZoAjO8xv+PAsLAaj0sQKRERQUjQMI8xztMAJCFakRdQHS+ED7CwAN/9IFyRQMBYb9Mv2U8WH9BQoGC/MN6/lu8/cDQf35/BgK/QDt/uMGgff28j8BUgiiB/X/VPtT/Hf5evnJBD0ENPWs/+cFMfto88v8Qwpp/5/7Nfa48QD8tgP2ApAI9Py47371dfV6DMUKPPW0/mb+JvF6+nQCbv5SBkoIq/uu873rRAHODQIB6/5V9ZMBDATt9S35GAekD5AFI/0+9Rv7fAnqDd0CW/aDEKYIJv99AJ360ArTDt8SewCN7yT0jg29GaUIUgTv+9n46/J/DXcV4O85/YcSnQPS8xb7nQFr/Un1oQUNDZEGrvMI5V/8+QPFB8YHIfpz91r4Uviz+D31uAXTCrQEOAIb6prnq/woCTwSLgRx9DX2CvRV/+b/aQAVCl4JBPuH7bn2dwSLBvUMvAXl9YX1ZvFN/WgP3Q26BNj5n+7Q+m4GIvv0/CYEAQlECQ31EO5C/+8DTAKaCkEH1Pc08xT9NggSCmoADgJzDW8ER/Pi9/8J9wseBbkLqwK7++AGrgIT+3oDqg8UCWD6b/jMD7sHNvDd/5AOHggiAAL6FPtQ/c736APlCXkEbwPl+H702wKFADz+Hf2X8Jb8KApBCTkBx/QV+mD+kvrD/vH7pvyYBZoG6/8S9b3y7QVCEBIFPvOl/ef/cfPpCEoMWfq7/ZwCzf4NBKn9yvYr/zcHrAfp/3XyIfd2/Q4BSQ8oCKz9CvWT+ej+2/cq/g8KUAmHBQH55O6K/sgKXwwtBbH4HfMy+loC/wIqCFQN+Pzy95MBwP1q/2D8aPZxBjELVP82+lf/GgQw/3D6KP6kAssA6/wE/f4A0voh/aoLMQgR+rH1kfYk/ZYFtQh/AYX4zfihALME9vmj/LoG8QYECKP7xfIP+5MEbQyiDL4DRwHc/wH+BAShCVwIwAYXA2IBxwRb/4gGlhEJDDAEK/76+uv+UgO3C8kK0QTbAPrzaP1GBG0B6AXA/r72X/uo93v0Lf9XAf4EVwAm+PX3UfNb9L37VQDL/cz7hf/J/HL7QP1t9qLxFP6iCV79SfF/+qUBP/98/l393/0s+n34zfwq/10CpQNC+DTx7P7yC2QFcPrF+8T3uvPC/7MKVQKn+bkEIAM78Q/yiP6PAnoHAQqtAPb4EPav9af7NgKAD9IWhQn9+wv5Cv95C6gRpQ/YDScIoATgBt4LrhGNFs0UAw/uDrkNeARC/k8GYxGUF84XmQsMANL95v7nAiEFEgLk/WT86fle9xT74/uL+4H56/RH9KnwLe6V8jj6rfh+9AL1w/Zu81DzuPd+9G3zC/QT8mv0+PZV+T0ARfrO9MT4BvLs8VgBuASi+4H4TvdA9/b5O/+vAh/+LP35+7f2UPTT9kT5Bv31A+UCDPjB71X13vi99c/7RwB4+jH23/g6AOsH8QueC1YIPQfKCccKjAd4C0wU1hcGHYAfKB8VHQwVcRM/GnoajxgkGfcUhBJhExUV6xfHFG8PSArKAoj+O/5B/J749PgK+WX65vl28o7rHexU6yfrhu+5797x2/Pa8fbsFPLC+ir5CPds+A75SPrx/Q7+lP2i/5IAVv5B/gL/AP04/CP9Lfz4+fz39vqeAlj8YvSK9xv3V/Ti85b1C/Sh72vuNPNE8qzrhe6g8Vns7enV7mnzBPCj6nDtMfFv8qH13/hI9bnyWfjWBigThhk3HCganxKADYQSFRpXITQlNiiSKggs8SxuLzYv1il7IRAaUxaZEVQPzBDZF2wY+BBBDn4J4v4h8wvrfOYL513ojOsI62jqkuuH6GroW+pd5zbjfuNL41zp5e91+MED7AYoA44C+AMmA2wEFARgBcgHUwuQEqcVlA2YC44OCwZo/kL+Xf2y97n3y/w2/Q76FPjR9gDvFeZE5fvkJeCS4DTihuAj46TnXegP5LLgfOJR4/7hXuPk6EPsve7u8AbyBPWB9hP2iPwbCY0W7ibfLeUlVx8gHU8cviGkJYgpATGkNXU4ej48QL46ZzDVIMwWzRRZEEwOGhCzDqEPhg6PCIoCDPUa5mvflNmB1cnYgdyV3FvfL+Ll5HHmGuPn4JvhQuJt5Qbsm/YRAawHGAyqEXYWexSKEhwULBIUEFoU+hh5GVcZ7RogF+cRCg/eB+P+v/nk96H1YfNz83/0PvHc6kzmoOCR2yzY5tU91E7VZdYy2dPc4dv+3X7eKd7/3nvh+OP65Vnoyuy771fxwfY8+Hj1UP2hDlMfBzEKNx4w0iq8JxskdSOrI5AprjUnPUlC3knrS3tEazWGIWITGg0lCNkF3gWaCW0QsQzjA3j9m/BK4mHVQ8gmxo3MjM8F1a7bAeCU5dXmxeRs41jhF+Nm54Lr+/c8BzgSyxzwI3IlwyRtIV8bERb8FIYaLB95H94hmSNtIBcZgg5CBCH6pvKB8VXwfO7E76jviO0w6fbfSdeu0PzMnspdyf3Mx9Lr1xLaFNzH3THdVd7c3nveC+Bz5Y/q6+3p8Qv25/hE98X4bAO8FCUq9jhSOwY4WDObLw0rJSVTIjonZTLrPZJHxE93UVZIEDVrH9UOhATq+034sP0yAQEEzwm5Byz7N+v42KfKhMEGvMO/VchrzxTanOSr6G/siu1S6U7n0uVV50zy1v7CC3saWyYsLngz7TGnKtskFx+xG8UaBBsoH5gh1iBqH60WSgs1AiP5r/Bo6knp8emF6L3n1ehO5R/fCNdQzWHIdMfZx5HJ58td0OTXnNt63THgxOID5NLjQuRL5iPqDO3w8DT0u/YJ+cX76wNvFPMqSDtePzg7szjPN/EwcicBIzMnrDIqPjFHBlO/V95NbTs3IigOKAdk/WPwye5Q94cD8AglAV73U+2c3P7K7rx3t/69XMQzx0TQv9/R7MnwBe8u7j3uOe6H7gvyo/3lDPUYgCLBKnUzVziWM/8rhiWJIaogiB3uGfIbnx5qGlITvwynBPr7ePEQ6OPjWuLJ4q3jmOAB4O/fVNnZ0SPMYspzyj3JfcpS0F7W2trS3tzfHOFV58Lpr+hD6PvppO5q8Ovx4PVy9/n3e//sDUshrDNvPIk9Wzq4N2E2cixfI4kknixTN2ZCeU7uVWVRQEQ0L5wXFQiO/Fby5+jF6uL2/f+SAXD83fHD43XUnMRMuhi46byoxOLKxdXj5sryFvYI9L/x6fO49Dv1p/uqBhEU4R4FJpQs1jOpNpcynSt0JpskVyKuHTIauRioFY4POwY0/s75APR87Azn1eRb5fTiid6Q3ZbcAdhk0KvK18l1y/DMPc/A0tzX592i4FrhROIf5Wvnoue36ersB/Gk9Mv10Pd8+uH8jPq2+4UIehsDL+U34DvKQOhBzzzxMX8oLSd6KzQwQjbgRNBSp1M2R/0zlyJfEpYA0ezO3yTjoO0P8v3zEfiI+DfuLtu8ydHBfb6Yume6qMFf0dPjn+0N9VT+7wJWAvj9I/w6AU8JNREsGPEg5C0xOIk6NjimNNUtQiUxHAgWDBRHEYsO6wmmBF8BOvvK8fvn5OAv3frZu9ed2WHco9vU2JvUYs91y47Ircafx1bMFtTg2yPhvOVy6bfqNesG63LqausN7u7xafWN+tn+EQE9AFD/lghpFiAozjacPH9BlkN4P2I3ni6FJ+YkZynbLqI6FUdwSKtE8jazJEkVhQHz7Cnf8dkY3VPkjuxS9O/1ju+w5R3Z6szhxMO/Hr70w8bQ+98P7tL51wO5CXcLRAvKC8MNnA+5FD0bmCNjLdIyFDUNNd4yBi8bKGYfaxlZFN8Obgk0A9f9dPiz8MPo3+Rg46/fydmN1sHWr9fX1vvSzs9izqnM0MroyvLP/NUc2a/bQ+CB5sHq/utA66ns3fDb8tHzNfbg+bP90f8ZAZoCUQWOCkwTxCEHMgc8Ij/oPek7xjjdLjokXSHqImoo4y/bN+hAw0DgNe8m2xOZARLy4uAY1ZrUTtw75yHtHu9p8TDt1eE2133Qz8soyrzLK9Ir3unrFPnpAhQLhBIOFoQWixYBGHEaRB2bIBMktyipLOMtky1pLOIqwCb0H5sYThAqCPH+yfWS7dHmmuL93+DeRt013J7b9dg/1x/VYtBHzNvIfcjmyqrNLdNv2GDcIeJ75k/pL+xP7mfwL/Je9Gr3Ovro/Nn/zwKmBckIRQupCpUMdxMeHaIoVDDbMiwzTDLvLgkozh8cGpcbyiBGJQMumzRhNHYtKR/UEG0DpfOo5jXccNit38fmP+sO7ujtYuvs5ODbk9VU05vSntQM2frgHO0K9WX5DgDuCTIVRRy0IOgl4SmlK50qCynuKPko+SejJ3QqSjCfNQU0kS0pJSYaygzY+jXq5d/M2JPWuNff28biHORD4KvbpNbczx7H3b8qvubCgMrh0ovb8+M16rbrTOqG6rbrf+z47hTzSfnE/gADSwcxCiANhQ3VCugIxQtAEiwabSGIJp8q/insJV0hnhqLE3UOQQ1QEmcZ4SCQJsMmAyKgF3UJZvp77SLj1dvF2l/fAuca7nLwwe/p7cjnjt+b2EHUB9Tm1VPbxuTq7Vz22vul/gUFVg4fGDYh9ijvLncyXjNDNKkz8i//LPcrky2AMhM4rzosOlo0eSk0GtEIjPhG6HvbutSA1G3al+F85Vnlx+Le3b/V68oCwke+cr9lxKHMJNhC5HvtcfEb8ETtHuy969zsTfDi9ab9UQT2CP8NIBLdEkgQygucCkkOwRJvF2saEByvHr0dkRgmEvALQgiKBVQFDQnTD98WyRjPE7oLmQNd+brs4eB+2//bDN+y4xzpee9/8xXxOer34sndmtpe1zHXDd2L5jXvv/Wp+s7+cQKjBpQOjRtNKkQ0iDgCPLBAkECrOQUxLSyGLScwfzL8OElAm0B6OCspFxl+CU71z+C20m3PAtZF3U7ig+jD7Abq3t/D07jKHMPpvHi8BMQL0W3fDOts8wT5+foq+Uf1QvNR83H1+fin/k0Htw5xEucTfhSXFHAUTxNZEtwREhIPEnEPuwthCUYHtgIk/y7/GAHRArECIQNGAzUASfq28UXpoONC4ILejd/+4zbqwu5K75zuB+1E6Z3jfd4I3SzfwuJT5v/qLvH59lD6Qfph+oUAEAqOFT4jFjF7PQ9FmEVfQm4+TTh+MIkqzivPMh87mUDdQT4/OjaiJYcQbfwi63PbI9BXz43YauMX6gbsBuz16MTeS9F6xSa/uL5awZjJPtn16qn44f4rAA4BiP+J+bXz4vKM+K4AUgdaDxgZzR9aIC0cnBb3EsgO5AgtBvMGdwkOCkoGRgKMACv9nPhs9Vn05vX09SP1KvY19qvzw+1x5XXgOt9j3tbequF45n3rSu5l77HvGe5s66boeOZw5/7o7+l27Fnwu/Sw9tj5ewLLDoQc5SjoMT85vD06PVY4FzLkLaorESv8LSs31UE5RipDMTypMSMi6w3V+FHoBd4O2fnZ++AW6prwe+//6dXjStrzzRzDAb77vzzHgNHq37HvP/yaAnsCLwDe/b/5CvXG9C36yALbChUTORwKI80kYSGHG1AWNBGaCzYH+wQBBbUEiQJ7//39cfzF+Kb0BPIp8ePwtfDo8CfwtO1r6k/lAeGf30jfWN/v4BPkXOj96qbrO+xR7KTstutJ6p3p7Oqf7AnuhvDH8wz2BvgB/vYIrhhtJ78xCTraP9ZAyDzDNGEt6inKKMQq0DFLPK9EOka3P+0zAyUvE8j+Get63WXYYtoF4cTp7PDo8xXxv+jY3B7QXsUNvhq8e8G6zYbd1+2b+hoCtAQuAoH9dfhM9X73Pf0iBPYMnRacH9IlqybRI6gemhcUEnEN+Al8CaAIpQZOBDYBYf7d+gP2S/Kj76juQu8v7w3vZO5i7HvoSeOq347dpNy13Z/gPeV16dnr5OyD7cbt2u217QDtL+0h7onvovFF9E33pfmz+wwBfwtBGRwnvzHKORk/0z+JPAQ23i7YKCsl9CWfK100jTxsPxQ7NzKIJAwTNwCu7QTgqNjX1/zdLeeP7jDy7fCD68biqtbbypLCl7/1wiPMCtoB6tz3VwA4BMUEvwIW/wf7W/k7/J0C9wnBEdEZiiCXJN4kFCJMHqcZtRPrDesJwgcSBpICRv6q+wP6zvfD9N7xTvAe7+DsBOtt6mnpA+a34AXdGdzG3BnehOBF5NTobew47oHvVvGp8eLvRe5D7o3wevJM9Jj3vPsV/+8AsAGWBWUOMxnbJEEvATh3Po0/bzt4NVUvISn8Ingg+CTuLQs2OTm+NvsvOiQ5E17/he2G4JrXe9Sn2CribOwk8mzxT+xn5CnZrMwowyG/fsJvy3PYveh3+GUEvgl/CfcGQgOA/6P9Xv9mBWIOGRfMHvckoyd7JmQhaBofFBcPlQtmCbAHzwZ1BScCxP2P+OjyCu4k6hDnXOZE5z3peOou6ZHmheMl4Bfd6tpA29jefOMk6Jvsb/FI9tz4Jvgt9qH0+fO08xz0Jfcy/CsAnAJyBIUJBhJwG1glJi7sNVA7VTsDOIczXi16JuIf0h3TISspATB4M1synSwlIf4Ql/957lPg5dbn00TYQeHM6VTvz/Bx7TTmVtsZ0FzHqcJHxEbMUdkr6UL4zgOhCswMgwvZB3YDhAB/AQkGXg05FtYdnSPVJqQm6yOSHm4YqBJwDSgK6AcIBrYDQAAV/OH31vNQ8JXsfOn653jnj+dS5zfmY+QB4tvetdwD3B3dceAO5Hroke2w8fP0u/YO91/2avSc8pvymfRU+Fb8tv/qAt8EIgdkDI0Uih/7KT0x1DY1Ovg5WjaKL0Qo4CIDH2EfmiQDLLMymDMYLl8kjhfMB2/2RuZP2i3VV9b43KLlAu0P8SDvGejT3sbUgMzgxkPFIMql1EfjlfLv/gMHEgv3CpQI8QUhBA8FCghTDLISzBlRINQkaSWzI34gExzRF98Siw4AC9kGygLU/lj7hfhC9anxPe7068nqIOmj5xPmVeRp4u3fk95E3pbewN9F4UHk5uhd7ejwIvQ99nT3Yfcj9tr1efV39of4Avva/jgCnwR7BzoM7BO5HWomQy5ENDY3EjdQMwEuzihuI7ofox9aIzcqlS+bMEAtlCVXGR8Kgvm66ifgbtmS2OTc8ePL6iTuouyd5+3ftNZyzvzIrccIyzrTmd+A7QL6PANJCEEKoglDB40FQwVwB6ELRREFGB0eryJiJLIjQyEEHeoXLRLBDNUIPgXBAZv+ePtG+ZT2I/Nt8F3tfuqO563k+OLY4QPhVeCZ39Lf1uC54VrjAOaT6fvsDvDl8tP1Z/gy+dz45vfA98n4S/rx/H4AnwOyBhkKBA8kF1Eg6ChvL80z+jWaNZYyYy2kJ48i5x+0H6giHSjmLCUudCrGIUwWwwiq+WPrUOAY20vb/t6S5GjqV+6D7Q/oCeD/1zPR/ctfyq3NQ9ax4ffsGfea/2oFcQeVBnEFtgVGBywKog5WFCkawx4eIcsh0SDHHTUZDBSYDzgMTAmgBmEEiAFe/vn6Gvdt81/vyeo75wvlEuSD5IDksuTl5BDkeePg4hHjJORk5ebnUexh8YX2R/p+/M/9G/2Z+zv63vnv+s78tP8wA50GvQqIDwsWSh7nJbMrNi++MPkvQyypJmQhqx2tGy4cwx94JX0qSitsJ+8f+hRWB7n4p+vW4p7eh9414ofojO468RnvLOmC4ZfYhdBJy8XKm8+t10Xiie7B+Q4C4wVEBo8FHQTpAmADiAaCDEETuRjuHPAfDCE9H/waHxa4EeENegr3B5wG0AXYA/j/bvsu9wzzr+7k6mToaudt52zne+dg59HmAuVY4+bireOA5t3pe+3L8ev1SvmW+4r80fw2/JD7ZvvW+6r9PP8cAGcAqgE/BRALPRMvHL8jnylLLZ4tJissJlcgxRu3GEAZeB5eJgYuqTEUMHkq0yBcE7gDSPT+6PTiG+Jc5hbuY/Zo+q34VfL66JbeVNTKzI/K7s151bXfY+uS9lX+pgDF/o77evjc9uX3SfyuA60L5RK/GM4cGx6oG4QW2hG5DowMVwv6CrQLNQyxCtUH6gNF/4z6PvX98OzuIu6+7TDtqexo7EzrMOkx57XmZufG6N/qX+4f88T2/vhx+tL7r/yz/DH8u/ye/jwAvABnAGH/Ff0U+r74nvsGAoIK6BKwGoohfSVTJaMhExwdFmIRpQ/BElgatiMbK08u2y1EKUkgKhQ6BsP5KvFw7UXvtvV8/XsDJwWxAZ368/A+5ujcY9ZN1J/WgNyq5YPvr/dx/Pj8iPqp9vXyd/FP8l311/oUAfkGDwwDD34P+Ay0CJ4E9QEvAZ0BBQN/BNUFawZ4Ba4CrP7w+SP1sfGy7w3vXu9A7+XuYe7N7STuyu4H8Pvx/PSs+Nf86wBiBPQGPgeTBrkFOQXTBRQHmQjkCrkN5Q8+EY8R4RBvD0gN/AsaDGcNjw8aEUQSDBMkE5kSEBGIDq4LqAi/BZADSwKkAa4Aev9z/r39DP09/PH6qPlq+K73S/jY+Ov5BvuW+3r8Wv1s/n3/pf8+/63+L/6N/vr+1f9eAAEA6/+z/1P/Ef9o/m39Pfy6+uf5rPlS+fT4NPg+93f2YvWc9Jbzb/La8crwJPBJ8EPwLvCU76fuNO5y7bjsfOy17KPtpu/r8sH3E/5KBLMJDw5rEcoTuxTfEx8SYxFzEbISDBawGnkfNiI1Incg+BwpGHcSUAzbB6gF8wRIBvAIggupDAkLlwd3A2n+6vgJ9KLwcO9L8KPyIvbY+WP8zfy5++754Pci9vf0jfUh+M37OgDEBF8IgQoCC8wJ5AcQBkIENgP0Aj0DtwT7BckG1QZXBQwD4/9r/EX5jvYf9JfygPEq8X3xXPHr8KnvE+7d7LjrXuvI62vsau3T7YLuCu/P7qHuJO5I7v7u8++A8b3zSPaW+bP9TAJiB4kMUxH+FBkYyxlHGtYZfxjUF/IXQBkWHCofSCKOJAskjSHdHFoWeQ94CO4Ctf+b/qr/vQGTA4EEVAMkAFb7bPUr8P3rl+lw6TPr7u5I8932m/nw+tL62/mb+G/4l/lT+xX+hAEdBaoICgsdDD0MfwuPCj8JXwgdCJsH0AaGBSIEwAL7AK3+8fuc+cf3ofU89ADz3/EF8YPviu7O7e7so+v+6eHogegU6TrqDewm7tfvl/He8ubzifRn9Ab0xfOE9Bf2Hvhx+kn9awCjBI0JqQ5tFPQYwRtpHeAdbB00HCMaphieGN0Z+hwpIYUkWiZCJeYghRp+EswJ2wGJ+xj4/vfn+VD9YwCKAU8AefwB9+LwCesr5p/jRORG5w3s3PFS93T7dP2T/Zz8jPu4+kP6P/ve/ZkBsQXICfsMCg9rD+gNswtxCbYHHAbLBPkDbAP6AjwCBQFr/y39X/pY90L0EvKz8FLvLu6E7QTtuewL7GfrH+u+6jLrKOyL7ZLvw/Fj8130KPWp9XX24fZ79+z42vok/Tv/IAEiA6MFXgjAC7UPIRQSGPAaohxGHTwdpxs4GWgX/RbsF9UZEhxWHmcfKh6VGgkVlg64B/0Au/v0+MP4Kfod/Kz99v21/Gr5s/Sx7xzruudj5lrnlupm7xv0Ifj0+rD8SP2c/KX7J/tT+3j87f4FAncFSAhdCpILqAvaCj0JpQegBaIDKALbABAAjv/y/o3+9v30/J/7lfkk99n0Q/Ki75LtHexn60Hrrut97Kftju5Q7/nv4PD18bfylvOC9PP1QPdw+Mr5Gftg/LT9+/4jAJ8B+wJtBNoGPwp6Dg0TtBaOGZ4bLhyIG8wZyhc/FlIVxBXNF48aQB1CHvccABorFeEOxwcsATr8U/mP+NX5QPzA/tH/oP4d/IL4o/Oh7mfq2ud1503p6+xp8R72Z/ky++b70vsB+/v5g/nX+bn7bP65AWEFRQgUCooKzAlzCJIGIwT2AWcAdP8m/zb/N//h/kD+1Pzt+vD44/bw9PLyZfFw8LvvVe9N72fvhO/z79LwAfKZ82D1pPYx91/3aPdc90L3u/fS+Er6ZPzB/vMAowKMAz0E+gSbBiEJmQy9EIcUxBfjGX8a9hl1GEMWkBS/E1sULxZyGHsaHhuvGZgWzRHtC/YFlgC5/HX69Pk8+0/9Rv7e/YX8yPnU9cLxSe7t6yPr+euC7hDymfWD+Gz6M/sS+yr67vhi+OL4M/rZ/AQARgMTBuUH4ghpCAsH9gTRAtIAIP+Y/rf+N/+//xYAvv9n/pP8Cvp/9/D0+/JI8g7yo/KB8/jzFPTs81bzyvKV8vLyF/R39Un3D/lc+lv7g/sV+6r6fPr9+i78k/1L//oA9AEOAxwELQX6Bi4JLQxPD0ES8xSjFk4XBRcoFvgU+BOVEw4URRWVFowXqRdkFlYTDg/6CacE9f+E/Ab7F/ty/Fn+3/9CACf/b/zA+H/0TPCG7TDs1ewM73/yXPbO+Sf8Lv1N/Sf8yfqM+TX5wfkw+6b9YAAmA1UFmga+BhYG0QQWA1cBy/9q/pv9Pf3N/Kv8Xvzr+3v74/ot+jb5MPhR93b2tvUY9YX0NPQH9CH0i/QV9c/1nPZT9yH4HfkN+tT6hfsu/Ij88fyG/RD+iP69/sH+TP8kABkBbgKpA04FVgdsCakLsg1eD7EQgRHnEUYSjBLgEkQTixMvFNYUKxUQFSQUNBJxD+QLSwj7BCICHgD4/r/+8v5v/3D/4v47/bf6q/eo9CjydfAX8JfwSvJt9Nr27fg2+uf6t/rV+TP5HfmV+e/67vwn/50BtwMJBXIF4gSXA40BtP8t/ir9dfw+/Gj8uvz//Ar9+/xb/G37RPpO+Yz49/fL9wD4YPjr+FL5oPnt+QH67/m3+bD52Plo+gH7hvv5+0P8qvwN/XD95v1q/hD/pP9WABcB3QGeAk8DRQSPBVoHIgnMCnEMrQ1zDtMO0w6dDj4OGQ4tDrQOQA+fD5APog4zDQ4LxwhgBjcEhwKVAf8AfwBQAOj/Sv8B/m/81/o8+eL3QPc591L32veJ+A75hfnP+eb56vkT+mP65fqh+1P8H/3B/Sf+mP75/lH/0v8oAEcACACL//n+Pf6E/dD8dfyG/Nj8If2S/X/9J/2b/MT7C/tT+tz5sPkI+qX6IPtb+4z7TPvz+rr6e/pv+vf6y/vK/KP9L/6u/tX+uv5Z/iD+/P00/vT+AgBGAcsCKQRmBX4GBQeCB/IHLQiACPkIegkeCuYKmgsSDDMM0Qs+C1gKPgksCBQHDgY8BY0EEwS5AzED5AJPApcBBwFVAIX/qf7Q/Tj9tvwu/A/8B/xW/NX8df0N/nP+qf5g/sb9x/z1+3T7R/vT++r8eP77/w4BxwG5AdQAfv8f/u78Mfxd/D39bv7v//oANAHJAGH/gP1g+6H5nfhk+Pr4JvqH+3v8Jv0C/X/8vPvP+gb6mvnX+YT6t/vN/O/9DP+M/6H/Zf/L/kL+//0d/qr+jv+qAPIBFwPpA50E0gTTBJ8ETAQdBAcERASlBGMFGAaTBsUGigYYBicFIQQ1A1MC+QEaApYCVwMNBKQEDAUSBckEUQTAAxYDewINApoBUQEmAdQAigAhALn/W/8O/wD/Ef8f/z3/Nf8D/8D+cP5Q/j/+WP6v/kz/AABkAIUASwCS/5P+Zv12/NL70vs6/N38xv2G/vX+7f50/qL9y/zd+yD7evod+hv6QvqI+v76gPvv+wj8N/yP/Nb8J/1L/W/9kf3S/SL+xf6P/3oAcAFMAgMDcQObA5cDOAPuAtgCtQINA5YDMgTKBDMFSgU0BcoEBARWA44C5gGNAV0BoAHUAR0CbAKGApwCmAKYAnQCUQIEAo0B7QBbAO7/i/9e/3L/xv8pAJ0A/wDTALwAaACy/zv/nv5p/ob+8v58/xgAoADsABMB8ABFAF3/Zv4N/Sr8t/uL+637NPy//Gb9FP45/gb+jP3P/AL8WfsK+yv7pfuF/If9dP4a/3P/av8B/6X+QP75/Sf+g/4A/4r/NwDPAHYBCgJLAp8CqwKgAowCbQI5AucBpwF0AX8BuAHpAToCcQJbAkEC/AGzAX0BTgFqAbcBCwJoArECxQJ1AuQBMgGGACIA9/8CAIIAQgHqAWUCkAJ2AvgBQwGSAAQAs/+F/7b/DwBrAKwAuwClAFQA4/9b/+v+dv5Y/lT+af6x/vf+U/+C/8n/2v/J/6//hf9l/wL/o/5V/gv+4/3s/Uj+fv60/gP//v61/i/+ZP2v/Pr7n/vM+/z7k/xn/Ub++v6G/8L/zv+6/8D//v9eAO0ASwHwAUgCWgJPAhwC0wGjAdkB+AFMAoACVAIrAvgBrwFSAQ0BKwGGAeMBGAInAjQCsAHmAC0AZ/89/3D///++AH8BGwImAt4BCAHd/7z+sv1C/Xz9MP5B/0oADwFKAesAEAD5/tr9Gf3V/DH9Gv4S/yYA3gDiAKUA+P84/53+Lv5r/uD+jf8EAHEAnABIAMr/FP+X/in+Fv4p/o/+4v4Q/z//3/6N/gX+tf25/f79mv5F/+r/NQBHAB0A9f+Q/z3/Mf9m//v/uACAASUClgLdAuECcAITAq8BYgFXAYcBsQHHAQUCHgIbAvUBtwF4ASgB0ACLAIQAggCPANEAGwFMATcB+wCvAGAAHADx//3/JABGAJMA2gAYARYB8QCZAEYACACX/4n/dP92/6D/0v/C/5j/i/9b/0f/QP85/w7/7P7v/vX+5P7U/sv+zv7o/v3+Hv9Y/3n/k/+b/3T/PP8m/xL/AP/4/hf/WP+f/9H/5f/V/7T/j/81///+9/7j/sn+xP7e/sz+2/79/uj+Ef8t/zb/L/8o/zL/Nf94/8X/VADtAFoB+QFbAnkCVwIcAsEBTQEmARYBagGrAQMCZwKdAqQCPwLPAUMBBgGpAHMAkwDLABkBOQFDAQsB4ABvADAACQDt/+r/0P/h/8//tP9k/xr/vP5w/kH+KP4j/gf+EP79/d394P0F/v79Ff5i/rf+AP9R/4n/u//I/8H/zv+s/7D/q/+p/9v/IQBLAHEAfABOAPf/qP9n/yL/9/4B/0r/oP8VAHgAhgBoAB8Ap/9g/xH/7/4c/33/x/81AKYA2AAuAU0BWgE6AQsB3wC+ALUAmwCFAK8A9ABkAb8BGwJIAiIC7QFsAe4AcAANAPD/DABYALAABgFCAVQBWQESAaMAbAArAO//AgAxAGoAbwBnAEMAyv93/07/NP8n/1f/cf+g/8H/kP9H/+z+q/5l/ln+gv63/vH+M/9w/2j/cP+C/6T/5P86AMEAMwGmAcABsQFkAe8AiAAfAAcAAAA+ALkASAGnAZEBAAGDAP3/XP/4/r3+4f45/8z/MAB2AFkACAC1/1H/+P7C/tT+Hf+F/97/QgBXAF0AHwDE/2f/E//z/qv+uf7o/iD/X/+O/5b/lf+y/4n/kv+n/47/w//2/yQAUgB8AKUAlgCTAIoAhACCAGEAZwBwAHQAawBcAEsAEwD1/57/V/9o/0j/YP+c/7T/7//z/9f/zP+x/1z/E/8Z/yD/hf/j/04AyQADARIBBQH0AK0AbgBLAEMAQACXAAwBWAGTAbEBlAFeARUBuQBpAB4A9v8VADAAZQCkAI4AqwCTAFsAGQDw/8//tP/O/+7/LABsAGwAUQAjAM7/k/9h/3T/ef+t/+//PABlAGkAYQABAIb/OP8I/63+qf6+/vn+M/+M/+H/DQAoACQALAAlAC0AKQBXAIIAiwCjAKwAoACRAG8AXwBJADkAcACBAGoAPwAOAMv/i/9e/zP/S/9F/0P/SP9F/1X/Wv9y/1r/VP9P/1D/Y/9T/17/gP+c/9v/PwBJAFoAYAAzABEAz/+3/6D/mf+d/8H/JgCZAM0A5ADnAJgAWwAnANj/pv+h/7f/8v8nAHgApAC7AMIApgCCAEQAFQDQ/7b/ov+s//n/BAAjAEgAYwB1AGoAWAAUANP/mv9m/0r/W/+A/7D/EQBhAJ4AsgBxAEUAAADM/7z/z/85AJEA8QBGAXkBZAEOAbIASQD5/9z/9P8zAJAA4wAWAR0B1gBfAN//Y/8S//v+G/8m/4P//f8OAAYAyf+R/1L/QP9L/3f/5v8eAIAAsADDAMoAlAB6AEoAXABHADUALABCAGQAYgBdAD0ANAAhABgAGwAdAPf/9/+3/4n/bP8j/zT/b/+9/9T/6f/n//D/5f+B/zb/Fv/8/vj+If9H/3X/kP+U/7j/tv+G/5j/sv+m/87/DAA1ADcAUABFACUAKAAlADIASwB9ALoA3gD0AN0AqwB1ABYAvP+H/2z/f//f/0cAuwAMAT8BOwHOAEYAp/8I/7z+7f5N/+f/dAD2AGsBegFSAQkBeQCs//v+nP6w/vb+iv8nAJ0A/gDvAJwADwBt/+H+rP68/ir/0/9yAPEAWwGVAWABBgGNAC0A9f/h/w4AVgCgAOUA6AD1AO0AsQB0ADwABADh/8D/wP/j/7j/wP/C/7z/yv/H//n/HABBAFIAFgDa/67/b/8r/yr/WP+j/wIAWQCTAIQAiABDAPD/mv8//yz/U/+d/wcAdwClAOAA3ACaAEAA0/+G/z//KP8t/0v/nP/2/2EAqwC3AIoAQADy/3D/Ff8I/yr/Tv+d//L/MwBWAFoATgAqAPn/vP93/17/b/+R/7f/5v8DAAwAFQANAAwABgD///X/CwDr/+j/6v/s/zcAdwCsAOMAMwFvAYkBZAEwAQgBgwAWAAgAAQAMADEAkgDnAC0BSgEfAcEAJgCp/xj/2f7p/hj/e//l/2kAmACpAGkABwCS/xn/3v6p/sr+If+G/9T/MQBGAEMAEwDD/2P/Cf8d/wr/Qf+P/9r/AwArADsA+//F/7D/0//e//3/IgA/AEEAOAAJAM7/o/99/5j/1P8YAFwAngDMAK4AUQDn/3P/6/6u/sr+Gf+f/xUAcgCnAJ4AcQA0ANv/sv+q/8j/FQBuANwAHQFJAUgBMgElAfQA1QDZAM8AvwC9AKsAfgBrAF4ATABVAIgAxQDdAOoAxwCJAEwA8f+7/6L/sf/f/ycAbQCkANUArABnAB8Ayv9b/w7/7/4O/zX/Xv/O/+//CwAcANX/xf+V/1n/NP/+/uf+CP9R/7D/NgCZAAUBIQHsAKkAXQAIAMT/u/+o/7L/+v88AGsAuwC6AI0AZgAgAM//k/+B/4H/fP98/6D/rf+7/87/zv+s/5//v//I/8D/vP/g/9//9f/l/8b/0//I/9z/6P8eADwAWABOAEsAOQAUAP//qP9y/2D/ef+S/+D/FQBgAIMAiwByABgAwf9c/zT/Dv80/4j/2P8pAIMAsQC2AHMAJQDe/4r/XP8+/0f/hP/G//f/RwBJADUAGwD//9//rP+H/1z/Xv9j/5f/9v9tANwAJQEwASIBEgHVAHQASwBAAEIAZgB0AKoA3AD/APgA6QDUAIsAQgDp/6P/k/99/2H/fv/T/+//CAASAAEA8f+0/3L/QP8r/zL/Zv+a/9b/BQAgADYAPwAsABsA///U/9v/8/8HAB0AHQA4AEIAIgAlAAIA///n/+b/DgDs/wMAAAD2/wMA8v/k/83/3//h/+P/7v8AADIAIwA1ADwAGgABAOv/1//m/woARAB2AJ8AvQC+AI8ATQAVANP/xv/T/wAASABnAIoAiQBuAEUAFwACAPX/CQAVADAASABWAHQAUAAmACUAFQAIACEAIgA4AEYAWABIAAMA0f95/1f/U/90/6L/y/8FACcAPwA0APn/qf9o/zT/BP80/5v/BQB0ANwAIAEYAQEBzACKADsA+P/R/9v/AwBdAJ4ArgDdAMQAswB9ACsAzf+R/3r/e/+j/6T/2/8HABoALwAzAPT/wv+U/zn/Hv8G/+/+Gf9O/4P/yv/0/+L/w/+a/0v/K/8K/xv/Xf+k/+3/CwA3AE8ASgAgAP3/6P/P/9T/wP/n/xEAPABMAD0APQAXAAMA6f/E/7X/2//i/wAAGQAhAEMANAAfABIA9v/R/8//7f8LAB0AQwBUAGYAhACDAKgAmABwADwAQABeAGAAagBzAKkA2ADBALIAigBgAD0AIwAIAO//8//3/xUAMgBJAFgANgApABcA4P/d/9H/wv/d//3/+v/5/xIA+f/k/wEA/v8EAOf/rv+9/7X/pf+8/7r/vf/l/+r/6P/e/9//wv+W/4T/gP+O/7H/7f8mAF8AlwCnALAAtAB6AEQAHAAIAOz//P89AFwAhgCYAJ8AlwB8AEYAEwDj/8f/t/+r/73/pv+x/8z/7f8CAOP/qf+b/3v/Vv9Q/xz/Ov9p/6j/0f8AACkAEAAIAOz/zv+7/77/xv/r/xAAMABFAGEATwAcAAMA7P/R/7H/v/+4/9z//P8PADwAPgApAAkA8//v//D/3f/S/9H//v8YADMAMgA0AEcAMAA1ACsACwAUAB4AIwBRAE0AUQBXAEsAWABcAEEAOAA8ADgAPwBCAE4APABOAEgAJAAsACUAJgA7AGUAfwCFAHMAXQBeADMAHgAeAP3/CAD9/ykAUABEAEIAIwAWAOL/n/98/2H/Yf97/4n/p//V/8T/wP+s/3r/ef95/7X/1v8SAHYAuADSAO8A/QC1AH4AJQDz/77/xf/4/zUAegCMAKgApwCLABgAy/+Y/2D/Wf9c/57/7P8aADEATAAwAOL/m/9h/zP/Df87/0//c/+p/9X/5//N/9T/v/+2/6j/qf+k/7r/2v/c/wcADAD3/wAA/P8LACQARQBZAHUAjQB7AGYAUQBNAFkATABXAI8AsQDOAMMArQCTAHUATwAZAP7/yf/Y/9T/AgAoAC0APAAhAAIA5P/O/7T/lv+h/7b/2f8NADgAVAB+AG0ATQBUACQA9f/j/wAAHQAyAEUAVwBsAFYATAA1ACYAFgDy//f/4P/a/9v/5P8OACEAOgBlAKMAtQC1AL0ArQCFAGkAbABFAB8ABwAAACUAGgATACQANwANAOn/6f+r/5j/lv+H/4j/ff+D/7L/xf/E/9P/xv/A/8j/nv+X/4P/e/+Q/43/o/+a/7n/3v/e//f/AwALAPT/1//I/5j/p//J/8z/9/8aADsATwBAADkAMgAPAOn/qv+c/6r/vf/i//X/KABCADQADAAHANr/l/94/2f/aP95/8H/AAA0AFwAYQBjAHcAdwBuAHoAeQB1AJcApwCmALgAwgDBAJ8AdgB0AEsAOQA9AEMAVQBTAEYAGgAXAPH/1P/q/wkA//8CAAAA5v/e/9D/1P/B/+H/6P/9/wgAFAAVAP3/9//U/+v/7v/j//n/MQBVAGEAbwBYAEoAHAD1/+D/xP/J/+b/HAA5AEkAXgBfADoALgAFAMr/0f+r/6L/3v8TADQAaACGAGcAXAA+AA8A4P+m/6D/r//c//r/EwAtADwALAASAAkADQACAOP/3P/3/wcABQATACwAOwA4ADcAOgAxABMAFAAbAAEA/f/W/9n/5v+r/9T/7f/K/9H/zv+5/57/kv9w/2r/TP9I/0X/Vf+J/6b//P8iAFEAhQClAKgAnACdAIUAkgCiAJgAqgCaAIIAcQByAI8AUwA6AC0AAwD2/9r/uv+r/57/r/+8/9H/4//f/9//zv+7/5v/lv9t/2//fP9+/6X/u//x/woAEwARAPj/tv+I/4f/nv/K/9j/FgA+AFsAbABfAD8AHwD+/8v/0f/a//n/KQBOAGcAdQBtAEoAKQACANX/zP++/9r/CAAjACcAFQAYAAwA5P/P/7L/dP+L/5j/vf/o/wgALwA9AFkAQQBCAD8APABQAG0AmAB5AIMAiwCFAHoAfwCUAJ0AlQB4AH8AXQAqAAUAIAAEABAANQBAAFwAaQCKAFkAUABEAAoA8v/f/+f/EgAuAGsAiACZAKYAWwAtAO7/p/97/23/gf+j/8T/7f8UAA0A+//P/6//mv9m/2L/jf+v/9P/AwA0AFcAYABDABwAEQADAOj/7P8IABIAMgBQAFQAUgA9ACsAHAACAOH/vP+U/3X/Z/9h/1X/XP9n/2j/d/+V/57/lP+p/8z/5f8AAAMAEAAuAEAAVABQAF8AaABcAFYAbQBxAGUAeABPADYANwAtAB0ADwD+/wkAAwATAAQAx//O/7P/qP/E/7z/xP/k/9j/6f/6//D/AQAJABwAJgAXABQABQALACYA7//T/87/0f/N/83/y//Q/8f/vv/v/+b/yf/W/+T/+P8ZABUAJQAiABgAGwAgADYAQABAAE0AWABJAFIAUABTAGMAbQB4AIAAbwBTAHMARwAcABcABQAdABUAPgBTAEIASAAvAB4ACgAFABQA+f/w/wkAGAAvAEEARQBHAE8AGgD///3////x//7/+f/q/+T/zf/T/9//z/+P/5T/f/9i/3D/X/9K/1T/Wf8//0b/OP9Q/07/d/+p//L/SABoAJoAsQCxAKYApwCCAH8AiwCVAI8AewCZAJcAkgB6AFUARAAkAAsA6P/d/+P/0f/P//P/BgD///r/7f/i/8H/oP+S/5X/pf+p/7//0P/T/+L/4f/u/97/vv+7/8X/0P/f/+X////8/+b/AwAHABAAEQD5/+3/8P/w/+z/8P/v//3/AAAMAPP/4v/y/9z/4P/B/6v/nf+X/5P/mP+1/4//oP+z/6L/sP+z/6f/oP+d/7r/6v/4/yEANgA0AFAAXABJAE4AVgBkAGcAZgCBAI0AhwCgAIMAbwBoAFMAcwBlAGkAaABlAGEATAA6ACoAGwACAAMAAQAWADAAGgAGABUAEQAaAB0AGQAeADIANQA0ADkAMgA3ACoAGAAPAAEA9f/n/+z/6v/Y/+P/1f+w/5b/ef+J/4z/kf+0/8//7/8MACgAPwA7ACgAJwAWAA0AFQAPAAwAFQApACEAFwAQABYADgABAPn/8//t/+H/9f/t/+r/9v/+/+j/2P/v/9r/v//f/9D/w//D/7v/y//F/97/4//o//D/7P/r/+7/9P/6/wMACwAFABMADgATADoAKgBTAFgATQBQAFAAWwBWAFYATgBTAEoAVQBOAEsAPwBDAEQAIwA4ABIACQAcAAIA9f/q/93/3//e/9z/7v/s//P/9v/+//7/AAD4/+7/+f/3/wEADgAIABwAHAANABAABwD5/+H/0f/M/9b/zv/A/8f/yP/M/77/r/+k/4f/iv+e/8L/AQBEAI4AsQDEALwAswCmAJgAlQCHAJAAgACBAIkAfABuAGcAVABAAD4AIgAfAAQA9f/5/xwAIQD4//L/7v8BAOz/7f/R/8f/uv+z/8v/uv/M/7//zP/J/9L/4f/x//L/BQABAO7/8P/3/+T/4f/m/+z////7/xMACQAYAAkA8v/+/+X/2//m/9z/2v/f/9b/4f/c/93/3P/X/7T/o/+V/3r/e/9+/3z/Zf/u/xUAAgAKAAMAEQARACIAEwAfACAAKAAvAC0ANQAqACUAIAAhACUAKAAcACIAIQAeACQAIAAYABEAFQALAAgA+f/2/+//6f/o/97/4v/k/9f/4v/r/+b/8P///wkAFAAqACcALQA4AD0AQwA6ADQAMQAyAC0ALQAzADAAIAAbABkAFAAEAAUA8v/o/+j/2//h/9L/0v/T/8b/0//H/8z/0//J/83/yf++/8P/vf+4/8L/uv++/77/xv/G/8//yv/C/83/u//C/9H/1//T/+f/7P/o//b/8f/g/+H/4v/X/8//zP/M/9H/1//Y/9L/y/+8/8D/wP+9/7n/0//e/9X/BwAKAAAA//8FAAwACQAHABQAFwAcABoAHwAcACUAJgAkACYAGgAUABIACAAFAP7/7//0//H/+f/1/wAA/f/+//v/+P/+//3/+v/2/wAAAAAPAA0ADAATAAMADgANAAgABgAIABcADgATAAcAEgANAAEABAAHAAQAEAAPABUABADi/9v/wf/O/8P/yv/E/8D/wP+0/9D/yf/W/9T/2P/h/8X/2P/S/9H/4f/a/+H/2f/a/+H/5v/x//f/6f/v/+//3//T/9j/4v/f/+r/7f8AABwAKwAsABsAFwAmACwAOgA7AEIATgBXAGQAXwBqAFAASAAtABcAIQAXABYA+P8IAA==\" type=\"audio/wav\" />\n",
       "                    Your browser does not support the audio element.\n",
       "                </audio>\n",
       "              "
      ],
      "text/plain": [
       "<IPython.lib.display.Audio object>"
      ]
     },
     "execution_count": 31,
     "metadata": {
      "tags": []
     },
     "output_type": "execute_result"
    }
   ],
   "source": [
    "output = output[0, :, 0]\n",
    "\n",
    "Audio(output, rate=22050)"
   ]
  }
 ],
 "metadata": {
  "colab": {
   "collapsed_sections": [],
   "name": "Tensorflow_TTS_PWGAN.ipynb",
   "provenance": []
  },
  "kernelspec": {
   "display_name": "Python 3",
   "language": "python",
   "name": "python3"
  },
  "language_info": {
   "codemirror_mode": {
    "name": "ipython",
    "version": 3
   },
   "file_extension": ".py",
   "mimetype": "text/x-python",
   "name": "python",
   "nbconvert_exporter": "python",
   "pygments_lexer": "ipython3",
   "version": "3.8.3"
  }
 },
 "nbformat": 4,
 "nbformat_minor": 1
}
